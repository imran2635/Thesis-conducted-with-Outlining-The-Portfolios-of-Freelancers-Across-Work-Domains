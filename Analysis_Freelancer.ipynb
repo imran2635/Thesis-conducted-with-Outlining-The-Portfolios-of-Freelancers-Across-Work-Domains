{
  "cells": [
    {
      "cell_type": "code",
      "execution_count": null,
      "metadata": {
        "id": "Z35hnH54mKt9"
      },
      "outputs": [],
      "source": [
        "import pandas as pd\n",
        "import numpy as np\n",
        "import matplotlib.pyplot as split\n",
        "import seaborn"
      ]
    },
    {
      "cell_type": "code",
      "execution_count": null,
      "metadata": {
        "id": "4GWpd_eZmKuC"
      },
      "outputs": [],
      "source": [
        "df = pd.read_csv(\"/content/Data_Freelancer.xlsx - Recovered_Sheet1.csv\")"
      ]
    },
    {
      "cell_type": "code",
      "execution_count": null,
      "metadata": {
        "colab": {
          "base_uri": "https://localhost:8080/",
          "height": 1000
        },
        "id": "olMe-pQwmKuE",
        "outputId": "57550b3f-7e83-4aeb-d75e-487df5705ba4"
      },
      "outputs": [
        {
          "output_type": "execute_result",
          "data": {
            "text/plain": [
              "                 Name                                             Domain  \\\n",
              "0           Natasa P.                                         Freelancer   \n",
              "1          Areesha F.                                         Freelancer   \n",
              "2           Benjie D.                                         Freelancer   \n",
              "3              Tgw O.                                         Freelancer   \n",
              "4         Muhammad F.                                         freelancer   \n",
              "...               ...                                                ...   \n",
              "20264      Ashfeen B.                         Scientific Article Writing   \n",
              "20265  OLUGBAMI O. S.                      Sales Page | Email Copywriter   \n",
              "20266   Abdulazeez B.  Freelance SEO content writer/ Copywriter with ...   \n",
              "20267    Mudassara I.                         Content writer/Copy Writer   \n",
              "20268       Waindi C.                                      odima carilas   \n",
              "\n",
              "           Country  HourlyIncome  TotalIncome  Rating      ClassLabel  \\\n",
              "0           Serbia          40.0         10.0     1.0       Excellent   \n",
              "1         Pakistan          10.0          0.0     0.0  Bellow Average   \n",
              "2      Philippines          20.0          0.0     0.0  Bellow Average   \n",
              "3         Pakistan          10.0          0.0     0.0  Bellow Average   \n",
              "4         Pakistan          20.0          0.0     0.0  Bellow Average   \n",
              "...            ...           ...          ...     ...             ...   \n",
              "20264     Pakistan          20.0         10.0     NaN  Bellow Average   \n",
              "20265      Nigeria          30.0          0.0     NaN  Bellow Average   \n",
              "20266      Nigeria          40.0         20.0     NaN  Bellow Average   \n",
              "20267     Pakistan          10.0         10.0     NaN  Bellow Average   \n",
              "20268        Kenya          20.0          0.0     NaN  Bellow Average   \n",
              "\n",
              "                                                     Bio  \\\n",
              "0      My career goals are to utilize the knowledge a...   \n",
              "1      Hey I m a best content writer and blog article...   \n",
              "2      I am a freelancer and I write for a variety of...   \n",
              "3      All Rounder Freelancer \\nJust Contact Us For F...   \n",
              "4      Hello .\\ni am a freelancer. I want to show my ...   \n",
              "...                                                  ...   \n",
              "20264  I have great experience of content writing and...   \n",
              "20265  Freelance Direct Response Copywriter with 2+ y...   \n",
              "20266  Hello!\\nI am a freelance writer who help brand...   \n",
              "20267  I can give extraordinary content to my clients...   \n",
              "20268  I am a self motivated graduate who always aspi...   \n",
              "\n",
              "                        up-skill-badge    up-skill-badge 2  ...  \\\n",
              "0                           Statistics  Financial Analysis  ...   \n",
              "1                        Balance Sheet   Budget Management  ...   \n",
              "2                                  NaN                 NaN  ...   \n",
              "3                                  NaN                 NaN  ...   \n",
              "4                                  NaN                 NaN  ...   \n",
              "...                                ...                 ...  ...   \n",
              "20264                     Blog Content             Article  ...   \n",
              "20265  African American English Accent             English  ...   \n",
              "20266                              NaN                 NaN  ...   \n",
              "20267                  Content Writing          Researcher  ...   \n",
              "20268                    Business Plan             Article  ...   \n",
              "\n",
              "         up-skill-badge 6    up-skill-badge 7      up-skill-badge 8  \\\n",
              "0      Financial Forecast  Financial Planning  Financial Projection   \n",
              "1          General Ledger    Accounts Payable                   NaN   \n",
              "2                     NaN                 NaN                   NaN   \n",
              "3                     NaN                 NaN                   NaN   \n",
              "4                     NaN                 NaN                   NaN   \n",
              "...                   ...                 ...                   ...   \n",
              "20264           Education    Health & Fitness                   NaN   \n",
              "20265                 NaN                 NaN                   NaN   \n",
              "20266                 NaN                 NaN                   NaN   \n",
              "20267        Blog Content             Article         About Us Page   \n",
              "20268           Education                 NaN                   NaN   \n",
              "\n",
              "      up-skill-badge 9 up-skill-badge 10 up-skill-badge 11 up-skill-badge 12  \\\n",
              "0                  NaN               NaN               NaN               NaN   \n",
              "1                  NaN               NaN               NaN               NaN   \n",
              "2                  NaN               NaN               NaN               NaN   \n",
              "3                  NaN               NaN               NaN               NaN   \n",
              "4                  NaN               NaN               NaN               NaN   \n",
              "...                ...               ...               ...               ...   \n",
              "20264              NaN               NaN               NaN               NaN   \n",
              "20265              NaN               NaN               NaN               NaN   \n",
              "20266              NaN               NaN               NaN               NaN   \n",
              "20267     Product Page      Case Studies               NaN               NaN   \n",
              "20268              NaN               NaN               NaN               NaN   \n",
              "\n",
              "      up-skill-badge 13 Total-Skills Required-Skills  \n",
              "0                   NaN            8               5  \n",
              "1                   NaN            7               6  \n",
              "2                   NaN            0              13  \n",
              "3                   NaN            0              13  \n",
              "4                   NaN            0              13  \n",
              "...                 ...          ...             ...  \n",
              "20264               NaN            7               6  \n",
              "20265               NaN            2              11  \n",
              "20266               NaN            0              13  \n",
              "20267               NaN           10               3  \n",
              "20268               NaN            6               7  \n",
              "\n",
              "[20269 rows x 23 columns]"
            ],
            "text/html": [
              "\n",
              "  <div id=\"df-1bbd00a4-befc-49dc-9043-deac7379ba09\">\n",
              "    <div class=\"colab-df-container\">\n",
              "      <div>\n",
              "<style scoped>\n",
              "    .dataframe tbody tr th:only-of-type {\n",
              "        vertical-align: middle;\n",
              "    }\n",
              "\n",
              "    .dataframe tbody tr th {\n",
              "        vertical-align: top;\n",
              "    }\n",
              "\n",
              "    .dataframe thead th {\n",
              "        text-align: right;\n",
              "    }\n",
              "</style>\n",
              "<table border=\"1\" class=\"dataframe\">\n",
              "  <thead>\n",
              "    <tr style=\"text-align: right;\">\n",
              "      <th></th>\n",
              "      <th>Name</th>\n",
              "      <th>Domain</th>\n",
              "      <th>Country</th>\n",
              "      <th>HourlyIncome</th>\n",
              "      <th>TotalIncome</th>\n",
              "      <th>Rating</th>\n",
              "      <th>ClassLabel</th>\n",
              "      <th>Bio</th>\n",
              "      <th>up-skill-badge</th>\n",
              "      <th>up-skill-badge 2</th>\n",
              "      <th>...</th>\n",
              "      <th>up-skill-badge 6</th>\n",
              "      <th>up-skill-badge 7</th>\n",
              "      <th>up-skill-badge 8</th>\n",
              "      <th>up-skill-badge 9</th>\n",
              "      <th>up-skill-badge 10</th>\n",
              "      <th>up-skill-badge 11</th>\n",
              "      <th>up-skill-badge 12</th>\n",
              "      <th>up-skill-badge 13</th>\n",
              "      <th>Total-Skills</th>\n",
              "      <th>Required-Skills</th>\n",
              "    </tr>\n",
              "  </thead>\n",
              "  <tbody>\n",
              "    <tr>\n",
              "      <th>0</th>\n",
              "      <td>Natasa P.</td>\n",
              "      <td>Freelancer</td>\n",
              "      <td>Serbia</td>\n",
              "      <td>40.0</td>\n",
              "      <td>10.0</td>\n",
              "      <td>1.0</td>\n",
              "      <td>Excellent</td>\n",
              "      <td>My career goals are to utilize the knowledge a...</td>\n",
              "      <td>Statistics</td>\n",
              "      <td>Financial Analysis</td>\n",
              "      <td>...</td>\n",
              "      <td>Financial Forecast</td>\n",
              "      <td>Financial Planning</td>\n",
              "      <td>Financial Projection</td>\n",
              "      <td>NaN</td>\n",
              "      <td>NaN</td>\n",
              "      <td>NaN</td>\n",
              "      <td>NaN</td>\n",
              "      <td>NaN</td>\n",
              "      <td>8</td>\n",
              "      <td>5</td>\n",
              "    </tr>\n",
              "    <tr>\n",
              "      <th>1</th>\n",
              "      <td>Areesha F.</td>\n",
              "      <td>Freelancer</td>\n",
              "      <td>Pakistan</td>\n",
              "      <td>10.0</td>\n",
              "      <td>0.0</td>\n",
              "      <td>0.0</td>\n",
              "      <td>Bellow Average</td>\n",
              "      <td>Hey I m a best content writer and blog article...</td>\n",
              "      <td>Balance Sheet</td>\n",
              "      <td>Budget Management</td>\n",
              "      <td>...</td>\n",
              "      <td>General Ledger</td>\n",
              "      <td>Accounts Payable</td>\n",
              "      <td>NaN</td>\n",
              "      <td>NaN</td>\n",
              "      <td>NaN</td>\n",
              "      <td>NaN</td>\n",
              "      <td>NaN</td>\n",
              "      <td>NaN</td>\n",
              "      <td>7</td>\n",
              "      <td>6</td>\n",
              "    </tr>\n",
              "    <tr>\n",
              "      <th>2</th>\n",
              "      <td>Benjie D.</td>\n",
              "      <td>Freelancer</td>\n",
              "      <td>Philippines</td>\n",
              "      <td>20.0</td>\n",
              "      <td>0.0</td>\n",
              "      <td>0.0</td>\n",
              "      <td>Bellow Average</td>\n",
              "      <td>I am a freelancer and I write for a variety of...</td>\n",
              "      <td>NaN</td>\n",
              "      <td>NaN</td>\n",
              "      <td>...</td>\n",
              "      <td>NaN</td>\n",
              "      <td>NaN</td>\n",
              "      <td>NaN</td>\n",
              "      <td>NaN</td>\n",
              "      <td>NaN</td>\n",
              "      <td>NaN</td>\n",
              "      <td>NaN</td>\n",
              "      <td>NaN</td>\n",
              "      <td>0</td>\n",
              "      <td>13</td>\n",
              "    </tr>\n",
              "    <tr>\n",
              "      <th>3</th>\n",
              "      <td>Tgw O.</td>\n",
              "      <td>Freelancer</td>\n",
              "      <td>Pakistan</td>\n",
              "      <td>10.0</td>\n",
              "      <td>0.0</td>\n",
              "      <td>0.0</td>\n",
              "      <td>Bellow Average</td>\n",
              "      <td>All Rounder Freelancer \\nJust Contact Us For F...</td>\n",
              "      <td>NaN</td>\n",
              "      <td>NaN</td>\n",
              "      <td>...</td>\n",
              "      <td>NaN</td>\n",
              "      <td>NaN</td>\n",
              "      <td>NaN</td>\n",
              "      <td>NaN</td>\n",
              "      <td>NaN</td>\n",
              "      <td>NaN</td>\n",
              "      <td>NaN</td>\n",
              "      <td>NaN</td>\n",
              "      <td>0</td>\n",
              "      <td>13</td>\n",
              "    </tr>\n",
              "    <tr>\n",
              "      <th>4</th>\n",
              "      <td>Muhammad F.</td>\n",
              "      <td>freelancer</td>\n",
              "      <td>Pakistan</td>\n",
              "      <td>20.0</td>\n",
              "      <td>0.0</td>\n",
              "      <td>0.0</td>\n",
              "      <td>Bellow Average</td>\n",
              "      <td>Hello .\\ni am a freelancer. I want to show my ...</td>\n",
              "      <td>NaN</td>\n",
              "      <td>NaN</td>\n",
              "      <td>...</td>\n",
              "      <td>NaN</td>\n",
              "      <td>NaN</td>\n",
              "      <td>NaN</td>\n",
              "      <td>NaN</td>\n",
              "      <td>NaN</td>\n",
              "      <td>NaN</td>\n",
              "      <td>NaN</td>\n",
              "      <td>NaN</td>\n",
              "      <td>0</td>\n",
              "      <td>13</td>\n",
              "    </tr>\n",
              "    <tr>\n",
              "      <th>...</th>\n",
              "      <td>...</td>\n",
              "      <td>...</td>\n",
              "      <td>...</td>\n",
              "      <td>...</td>\n",
              "      <td>...</td>\n",
              "      <td>...</td>\n",
              "      <td>...</td>\n",
              "      <td>...</td>\n",
              "      <td>...</td>\n",
              "      <td>...</td>\n",
              "      <td>...</td>\n",
              "      <td>...</td>\n",
              "      <td>...</td>\n",
              "      <td>...</td>\n",
              "      <td>...</td>\n",
              "      <td>...</td>\n",
              "      <td>...</td>\n",
              "      <td>...</td>\n",
              "      <td>...</td>\n",
              "      <td>...</td>\n",
              "      <td>...</td>\n",
              "    </tr>\n",
              "    <tr>\n",
              "      <th>20264</th>\n",
              "      <td>Ashfeen B.</td>\n",
              "      <td>Scientific Article Writing</td>\n",
              "      <td>Pakistan</td>\n",
              "      <td>20.0</td>\n",
              "      <td>10.0</td>\n",
              "      <td>NaN</td>\n",
              "      <td>Bellow Average</td>\n",
              "      <td>I have great experience of content writing and...</td>\n",
              "      <td>Blog Content</td>\n",
              "      <td>Article</td>\n",
              "      <td>...</td>\n",
              "      <td>Education</td>\n",
              "      <td>Health &amp; Fitness</td>\n",
              "      <td>NaN</td>\n",
              "      <td>NaN</td>\n",
              "      <td>NaN</td>\n",
              "      <td>NaN</td>\n",
              "      <td>NaN</td>\n",
              "      <td>NaN</td>\n",
              "      <td>7</td>\n",
              "      <td>6</td>\n",
              "    </tr>\n",
              "    <tr>\n",
              "      <th>20265</th>\n",
              "      <td>OLUGBAMI O. S.</td>\n",
              "      <td>Sales Page | Email Copywriter</td>\n",
              "      <td>Nigeria</td>\n",
              "      <td>30.0</td>\n",
              "      <td>0.0</td>\n",
              "      <td>NaN</td>\n",
              "      <td>Bellow Average</td>\n",
              "      <td>Freelance Direct Response Copywriter with 2+ y...</td>\n",
              "      <td>African American English Accent</td>\n",
              "      <td>English</td>\n",
              "      <td>...</td>\n",
              "      <td>NaN</td>\n",
              "      <td>NaN</td>\n",
              "      <td>NaN</td>\n",
              "      <td>NaN</td>\n",
              "      <td>NaN</td>\n",
              "      <td>NaN</td>\n",
              "      <td>NaN</td>\n",
              "      <td>NaN</td>\n",
              "      <td>2</td>\n",
              "      <td>11</td>\n",
              "    </tr>\n",
              "    <tr>\n",
              "      <th>20266</th>\n",
              "      <td>Abdulazeez B.</td>\n",
              "      <td>Freelance SEO content writer/ Copywriter with ...</td>\n",
              "      <td>Nigeria</td>\n",
              "      <td>40.0</td>\n",
              "      <td>20.0</td>\n",
              "      <td>NaN</td>\n",
              "      <td>Bellow Average</td>\n",
              "      <td>Hello!\\nI am a freelance writer who help brand...</td>\n",
              "      <td>NaN</td>\n",
              "      <td>NaN</td>\n",
              "      <td>...</td>\n",
              "      <td>NaN</td>\n",
              "      <td>NaN</td>\n",
              "      <td>NaN</td>\n",
              "      <td>NaN</td>\n",
              "      <td>NaN</td>\n",
              "      <td>NaN</td>\n",
              "      <td>NaN</td>\n",
              "      <td>NaN</td>\n",
              "      <td>0</td>\n",
              "      <td>13</td>\n",
              "    </tr>\n",
              "    <tr>\n",
              "      <th>20267</th>\n",
              "      <td>Mudassara I.</td>\n",
              "      <td>Content writer/Copy Writer</td>\n",
              "      <td>Pakistan</td>\n",
              "      <td>10.0</td>\n",
              "      <td>10.0</td>\n",
              "      <td>NaN</td>\n",
              "      <td>Bellow Average</td>\n",
              "      <td>I can give extraordinary content to my clients...</td>\n",
              "      <td>Content Writing</td>\n",
              "      <td>Researcher</td>\n",
              "      <td>...</td>\n",
              "      <td>Blog Content</td>\n",
              "      <td>Article</td>\n",
              "      <td>About Us Page</td>\n",
              "      <td>Product Page</td>\n",
              "      <td>Case Studies</td>\n",
              "      <td>NaN</td>\n",
              "      <td>NaN</td>\n",
              "      <td>NaN</td>\n",
              "      <td>10</td>\n",
              "      <td>3</td>\n",
              "    </tr>\n",
              "    <tr>\n",
              "      <th>20268</th>\n",
              "      <td>Waindi C.</td>\n",
              "      <td>odima carilas</td>\n",
              "      <td>Kenya</td>\n",
              "      <td>20.0</td>\n",
              "      <td>0.0</td>\n",
              "      <td>NaN</td>\n",
              "      <td>Bellow Average</td>\n",
              "      <td>I am a self motivated graduate who always aspi...</td>\n",
              "      <td>Business Plan</td>\n",
              "      <td>Article</td>\n",
              "      <td>...</td>\n",
              "      <td>Education</td>\n",
              "      <td>NaN</td>\n",
              "      <td>NaN</td>\n",
              "      <td>NaN</td>\n",
              "      <td>NaN</td>\n",
              "      <td>NaN</td>\n",
              "      <td>NaN</td>\n",
              "      <td>NaN</td>\n",
              "      <td>6</td>\n",
              "      <td>7</td>\n",
              "    </tr>\n",
              "  </tbody>\n",
              "</table>\n",
              "<p>20269 rows × 23 columns</p>\n",
              "</div>\n",
              "      <button class=\"colab-df-convert\" onclick=\"convertToInteractive('df-1bbd00a4-befc-49dc-9043-deac7379ba09')\"\n",
              "              title=\"Convert this dataframe to an interactive table.\"\n",
              "              style=\"display:none;\">\n",
              "        \n",
              "  <svg xmlns=\"http://www.w3.org/2000/svg\" height=\"24px\"viewBox=\"0 0 24 24\"\n",
              "       width=\"24px\">\n",
              "    <path d=\"M0 0h24v24H0V0z\" fill=\"none\"/>\n",
              "    <path d=\"M18.56 5.44l.94 2.06.94-2.06 2.06-.94-2.06-.94-.94-2.06-.94 2.06-2.06.94zm-11 1L8.5 8.5l.94-2.06 2.06-.94-2.06-.94L8.5 2.5l-.94 2.06-2.06.94zm10 10l.94 2.06.94-2.06 2.06-.94-2.06-.94-.94-2.06-.94 2.06-2.06.94z\"/><path d=\"M17.41 7.96l-1.37-1.37c-.4-.4-.92-.59-1.43-.59-.52 0-1.04.2-1.43.59L10.3 9.45l-7.72 7.72c-.78.78-.78 2.05 0 2.83L4 21.41c.39.39.9.59 1.41.59.51 0 1.02-.2 1.41-.59l7.78-7.78 2.81-2.81c.8-.78.8-2.07 0-2.86zM5.41 20L4 18.59l7.72-7.72 1.47 1.35L5.41 20z\"/>\n",
              "  </svg>\n",
              "      </button>\n",
              "      \n",
              "  <style>\n",
              "    .colab-df-container {\n",
              "      display:flex;\n",
              "      flex-wrap:wrap;\n",
              "      gap: 12px;\n",
              "    }\n",
              "\n",
              "    .colab-df-convert {\n",
              "      background-color: #E8F0FE;\n",
              "      border: none;\n",
              "      border-radius: 50%;\n",
              "      cursor: pointer;\n",
              "      display: none;\n",
              "      fill: #1967D2;\n",
              "      height: 32px;\n",
              "      padding: 0 0 0 0;\n",
              "      width: 32px;\n",
              "    }\n",
              "\n",
              "    .colab-df-convert:hover {\n",
              "      background-color: #E2EBFA;\n",
              "      box-shadow: 0px 1px 2px rgba(60, 64, 67, 0.3), 0px 1px 3px 1px rgba(60, 64, 67, 0.15);\n",
              "      fill: #174EA6;\n",
              "    }\n",
              "\n",
              "    [theme=dark] .colab-df-convert {\n",
              "      background-color: #3B4455;\n",
              "      fill: #D2E3FC;\n",
              "    }\n",
              "\n",
              "    [theme=dark] .colab-df-convert:hover {\n",
              "      background-color: #434B5C;\n",
              "      box-shadow: 0px 1px 3px 1px rgba(0, 0, 0, 0.15);\n",
              "      filter: drop-shadow(0px 1px 2px rgba(0, 0, 0, 0.3));\n",
              "      fill: #FFFFFF;\n",
              "    }\n",
              "  </style>\n",
              "\n",
              "      <script>\n",
              "        const buttonEl =\n",
              "          document.querySelector('#df-1bbd00a4-befc-49dc-9043-deac7379ba09 button.colab-df-convert');\n",
              "        buttonEl.style.display =\n",
              "          google.colab.kernel.accessAllowed ? 'block' : 'none';\n",
              "\n",
              "        async function convertToInteractive(key) {\n",
              "          const element = document.querySelector('#df-1bbd00a4-befc-49dc-9043-deac7379ba09');\n",
              "          const dataTable =\n",
              "            await google.colab.kernel.invokeFunction('convertToInteractive',\n",
              "                                                     [key], {});\n",
              "          if (!dataTable) return;\n",
              "\n",
              "          const docLinkHtml = 'Like what you see? Visit the ' +\n",
              "            '<a target=\"_blank\" href=https://colab.research.google.com/notebooks/data_table.ipynb>data table notebook</a>'\n",
              "            + ' to learn more about interactive tables.';\n",
              "          element.innerHTML = '';\n",
              "          dataTable['output_type'] = 'display_data';\n",
              "          await google.colab.output.renderOutput(dataTable, element);\n",
              "          const docLink = document.createElement('div');\n",
              "          docLink.innerHTML = docLinkHtml;\n",
              "          element.appendChild(docLink);\n",
              "        }\n",
              "      </script>\n",
              "    </div>\n",
              "  </div>\n",
              "  "
            ]
          },
          "metadata": {},
          "execution_count": 3
        }
      ],
      "source": [
        "df"
      ]
    },
    {
      "cell_type": "markdown",
      "source": [
        "Visualizing the data"
      ],
      "metadata": {
        "id": "e-K4vfCFyYhi"
      }
    },
    {
      "cell_type": "code",
      "source": [
        "#Visualizing the data\n",
        "import seaborn as sns\n",
        "import matplotlib.pyplot as plt\n",
        "df['ClassLabel'].value_counts().plot(kind='bar')"
      ],
      "metadata": {
        "colab": {
          "base_uri": "https://localhost:8080/",
          "height": 350
        },
        "id": "7kxwdXykyWPs",
        "outputId": "839bcfba-a289-4ca8-c8c4-11050d18d8d8"
      },
      "execution_count": null,
      "outputs": [
        {
          "output_type": "execute_result",
          "data": {
            "text/plain": [
              "<matplotlib.axes._subplots.AxesSubplot at 0x7fa2945800d0>"
            ]
          },
          "metadata": {},
          "execution_count": 4
        },
        {
          "output_type": "display_data",
          "data": {
            "text/plain": [
              "<Figure size 432x288 with 1 Axes>"
            ],
            "image/png": "[encoded data removed]"
          },
          "metadata": {
            "needs_background": "light"
          }
        }
      ]
    },
    {
      "cell_type": "code",
      "source": [
        "x=df['ClassLabel'].value_counts()\n",
        "colors = ['#96D38C', '#D0F9B1']\n",
        "plt.pie(x, labels=x.index, colors=colors,startangle=90,autopct='%.1f%%')\n",
        "\n",
        "plt.title('labels in %')\n",
        "plt.show()"
      ],
      "metadata": {
        "colab": {
          "base_uri": "https://localhost:8080/",
          "height": 264
        },
        "id": "PRlg5lf6zvZN",
        "outputId": "833e601a-68d5-4a65-98fa-744d6f20452b"
      },
      "execution_count": null,
      "outputs": [
        {
          "output_type": "display_data",
          "data": {
            "text/plain": [
              "<Figure size 432x288 with 1 Axes>"
            ],
            "image/png": "[encoded data removed]"
          },
          "metadata": {}
        }
      ]
    },
    {
      "cell_type": "code",
      "source": [
        "#Plotting the data distribution\n",
        "df.hist(bins = 50,figsize = (50,50))\n",
        "plt.show()"
      ],
      "metadata": {
        "colab": {
          "base_uri": "https://localhost:8080/",
          "height": 989
        },
        "id": "rsejdAZ-zKum",
        "outputId": "335bd9c9-4ef8-4042-938c-bf176ed31bff"
      },
      "execution_count": null,
      "outputs": [
        {
          "output_type": "display_data",
          "data": {
            "text/plain": [
              "<Figure size 3600x3600 with 6 Axes>"
            ],
            "image/png": "[encoded data removed]"
          },
          "metadata": {
            "needs_background": "light"
          }
        }
      ]
    },
    {
      "cell_type": "code",
      "execution_count": null,
      "metadata": {
        "colab": {
          "base_uri": "https://localhost:8080/"
        },
        "id": "DCMCILiKmKuI",
        "outputId": "5a6f2557-809b-43c4-9370-3c3e0f2235b8"
      },
      "outputs": [
        {
          "output_type": "execute_result",
          "data": {
            "text/plain": [
              "(20269, 23)"
            ]
          },
          "metadata": {},
          "execution_count": 8
        }
      ],
      "source": [
        "df.shape"
      ]
    },
    {
      "cell_type": "code",
      "source": [
        "#Listing the features of the dataset\n",
        "df.columns"
      ],
      "metadata": {
        "colab": {
          "base_uri": "https://localhost:8080/"
        },
        "id": "A9p5f5kwt9xC",
        "outputId": "f02345a2-b745-4965-a5c2-681bb9355e47"
      },
      "execution_count": null,
      "outputs": [
        {
          "output_type": "execute_result",
          "data": {
            "text/plain": [
              "Index(['Name', 'Domain', 'Country', 'HourlyIncome', 'TotalIncome', 'Rating',\n",
              "       'ClassLabel', 'Bio', 'up-skill-badge', 'up-skill-badge 2',\n",
              "       'up-skill-badge 3', 'up-skill-badge 4', 'up-skill-badge 5',\n",
              "       'up-skill-badge 6', 'up-skill-badge 7', 'up-skill-badge 8',\n",
              "       'up-skill-badge 9', 'up-skill-badge 10', 'up-skill-badge 11',\n",
              "       'up-skill-badge 12', 'up-skill-badge 13', 'Total-Skills',\n",
              "       'Required-Skills'],\n",
              "      dtype='object')"
            ]
          },
          "metadata": {},
          "execution_count": 9
        }
      ]
    },
    {
      "cell_type": "code",
      "source": [
        "df['Domain'].value_counts()"
      ],
      "metadata": {
        "colab": {
          "base_uri": "https://localhost:8080/"
        },
        "id": "PtpolfsAuMgT",
        "outputId": "2b9475aa-21d5-43cb-9852-916dba89daae"
      },
      "execution_count": null,
      "outputs": [
        {
          "output_type": "execute_result",
          "data": {
            "text/plain": [
              "Freelancer                                                   313\n",
              "Graphic Designer                                             137\n",
              "Translator                                                    69\n",
              "Virtual Assistant                                             55\n",
              "Data Entry Specialist                                         51\n",
              "                                                            ... \n",
              "Fashion Tech Packs Designer & Apparel Product Development      1\n",
              "Video Editing | Motion Graphics | VFX & Animation              1\n",
              "Graphic design - Motion Designer and Social Media              1\n",
              "Frame-by-frame and cut-out animation                           1\n",
              "odima carilas                                                  1\n",
              "Name: Domain, Length: 17040, dtype: int64"
            ]
          },
          "metadata": {},
          "execution_count": 10
        }
      ]
    },
    {
      "cell_type": "code",
      "execution_count": null,
      "metadata": {
        "id": "mxio6tX2mKuJ"
      },
      "outputs": [],
      "source": [
        "df=df.drop('TotalIncome', axis=1)\n",
        "df=df.drop('Domain', axis=1)"
      ]
    },
    {
      "cell_type": "code",
      "execution_count": null,
      "metadata": {
        "colab": {
          "base_uri": "https://localhost:8080/"
        },
        "id": "tSKE0SzUmKuK",
        "outputId": "f23ab815-12ab-4844-db65-281cb9780102"
      },
      "outputs": [
        {
          "output_type": "execute_result",
          "data": {
            "text/plain": [
              "Bellow Average    10359\n",
              "Excellent          9223\n",
              "Very Good           568\n",
              "Good                 95\n",
              "Average              24\n",
              "Name: ClassLabel, dtype: int64"
            ]
          },
          "metadata": {},
          "execution_count": 13
        }
      ],
      "source": [
        "df['ClassLabel'].value_counts()"
      ]
    },
    {
      "cell_type": "code",
      "execution_count": null,
      "metadata": {
        "id": "il-gkcqQmKuL"
      },
      "outputs": [],
      "source": [
        "df.drop_duplicates(inplace=True)"
      ]
    },
    {
      "cell_type": "code",
      "execution_count": null,
      "metadata": {
        "colab": {
          "base_uri": "https://localhost:8080/"
        },
        "id": "tgQEjjmtmKuM",
        "outputId": "9bcafb82-d607-4a67-c3c7-0016429d286c"
      },
      "outputs": [
        {
          "output_type": "execute_result",
          "data": {
            "text/plain": [
              "Name                    13\n",
              "Country                 13\n",
              "HourlyIncome            13\n",
              "Rating                4654\n",
              "ClassLabel               0\n",
              "Bio                     13\n",
              "up-skill-badge        1279\n",
              "up-skill-badge 2      1721\n",
              "up-skill-badge 3      2473\n",
              "up-skill-badge 4      3592\n",
              "up-skill-badge 5      5015\n",
              "up-skill-badge 6      6409\n",
              "up-skill-badge 7      7873\n",
              "up-skill-badge 8      9266\n",
              "up-skill-badge 9     10597\n",
              "up-skill-badge 10    12065\n",
              "up-skill-badge 11    13373\n",
              "up-skill-badge 12    14970\n",
              "up-skill-badge 13    15739\n",
              "Total-Skills             0\n",
              "Required-Skills          0\n",
              "dtype: int64"
            ]
          },
          "metadata": {},
          "execution_count": 15
        }
      ],
      "source": [
        "df.isnull().sum()"
      ]
    },
    {
      "cell_type": "code",
      "execution_count": null,
      "metadata": {
        "id": "O-rXUT_lmKuN"
      },
      "outputs": [],
      "source": [
        "x = df.drop(['ClassLabel'],axis=1)"
      ]
    },
    {
      "cell_type": "code",
      "execution_count": null,
      "metadata": {
        "colab": {
          "base_uri": "https://localhost:8080/",
          "height": 1000
        },
        "id": "E4MOkoEfmKuO",
        "outputId": "52f91423-809a-4bf0-f155-9554f559d281"
      },
      "outputs": [
        {
          "output_type": "execute_result",
          "data": {
            "text/plain": [
              "                 Name      Country  HourlyIncome  Rating  \\\n",
              "0           Natasa P.       Serbia          40.0     1.0   \n",
              "1          Areesha F.     Pakistan          10.0     0.0   \n",
              "2           Benjie D.  Philippines          20.0     0.0   \n",
              "3              Tgw O.     Pakistan          10.0     0.0   \n",
              "4         Muhammad F.     Pakistan          20.0     0.0   \n",
              "...               ...          ...           ...     ...   \n",
              "20264      Ashfeen B.     Pakistan          20.0     NaN   \n",
              "20265  OLUGBAMI O. S.      Nigeria          30.0     NaN   \n",
              "20266   Abdulazeez B.      Nigeria          40.0     NaN   \n",
              "20267    Mudassara I.     Pakistan          10.0     NaN   \n",
              "20268       Waindi C.        Kenya          20.0     NaN   \n",
              "\n",
              "                                                     Bio  \\\n",
              "0      My career goals are to utilize the knowledge a...   \n",
              "1      Hey I m a best content writer and blog article...   \n",
              "2      I am a freelancer and I write for a variety of...   \n",
              "3      All Rounder Freelancer \\nJust Contact Us For F...   \n",
              "4      Hello .\\ni am a freelancer. I want to show my ...   \n",
              "...                                                  ...   \n",
              "20264  I have great experience of content writing and...   \n",
              "20265  Freelance Direct Response Copywriter with 2+ y...   \n",
              "20266  Hello!\\nI am a freelance writer who help brand...   \n",
              "20267  I can give extraordinary content to my clients...   \n",
              "20268  I am a self motivated graduate who always aspi...   \n",
              "\n",
              "                        up-skill-badge    up-skill-badge 2  \\\n",
              "0                           Statistics  Financial Analysis   \n",
              "1                        Balance Sheet   Budget Management   \n",
              "2                                  NaN                 NaN   \n",
              "3                                  NaN                 NaN   \n",
              "4                                  NaN                 NaN   \n",
              "...                                ...                 ...   \n",
              "20264                     Blog Content             Article   \n",
              "20265  African American English Accent             English   \n",
              "20266                              NaN                 NaN   \n",
              "20267                  Content Writing          Researcher   \n",
              "20268                    Business Plan             Article   \n",
              "\n",
              "         up-skill-badge 3 up-skill-badge 4        up-skill-badge 5  \\\n",
              "0             Forecasting  Microsoft Excel      Financial Modeling   \n",
              "1      Cash Flow Analysis         Auditing      Payroll Accounting   \n",
              "2                     NaN              NaN                     NaN   \n",
              "3                     NaN              NaN                     NaN   \n",
              "4                     NaN              NaN                     NaN   \n",
              "...                   ...              ...                     ...   \n",
              "20264    Business Writing         COVID-19           Entertainment   \n",
              "20265                 NaN              NaN                     NaN   \n",
              "20266                 NaN              NaN                     NaN   \n",
              "20267                 SEO      Copywriting  Editing & Proofreading   \n",
              "20268   Executive Summary           Letter          Consumer Goods   \n",
              "\n",
              "         up-skill-badge 6    up-skill-badge 7      up-skill-badge 8  \\\n",
              "0      Financial Forecast  Financial Planning  Financial Projection   \n",
              "1          General Ledger    Accounts Payable                   NaN   \n",
              "2                     NaN                 NaN                   NaN   \n",
              "3                     NaN                 NaN                   NaN   \n",
              "4                     NaN                 NaN                   NaN   \n",
              "...                   ...                 ...                   ...   \n",
              "20264           Education    Health & Fitness                   NaN   \n",
              "20265                 NaN                 NaN                   NaN   \n",
              "20266                 NaN                 NaN                   NaN   \n",
              "20267        Blog Content             Article         About Us Page   \n",
              "20268           Education                 NaN                   NaN   \n",
              "\n",
              "      up-skill-badge 9 up-skill-badge 10 up-skill-badge 11 up-skill-badge 12  \\\n",
              "0                  NaN               NaN               NaN               NaN   \n",
              "1                  NaN               NaN               NaN               NaN   \n",
              "2                  NaN               NaN               NaN               NaN   \n",
              "3                  NaN               NaN               NaN               NaN   \n",
              "4                  NaN               NaN               NaN               NaN   \n",
              "...                ...               ...               ...               ...   \n",
              "20264              NaN               NaN               NaN               NaN   \n",
              "20265              NaN               NaN               NaN               NaN   \n",
              "20266              NaN               NaN               NaN               NaN   \n",
              "20267     Product Page      Case Studies               NaN               NaN   \n",
              "20268              NaN               NaN               NaN               NaN   \n",
              "\n",
              "      up-skill-badge 13  Total-Skills  Required-Skills  \n",
              "0                   NaN             8                5  \n",
              "1                   NaN             7                6  \n",
              "2                   NaN             0               13  \n",
              "3                   NaN             0               13  \n",
              "4                   NaN             0               13  \n",
              "...                 ...           ...              ...  \n",
              "20264               NaN             7                6  \n",
              "20265               NaN             2               11  \n",
              "20266               NaN             0               13  \n",
              "20267               NaN            10                3  \n",
              "20268               NaN             6                7  \n",
              "\n",
              "[20198 rows x 20 columns]"
            ],
            "text/html": [
              "\n",
              "  <div id=\"df-acffa4cb-0953-4da4-af46-0528b56c70f1\">\n",
              "    <div class=\"colab-df-container\">\n",
              "      <div>\n",
              "<style scoped>\n",
              "    .dataframe tbody tr th:only-of-type {\n",
              "        vertical-align: middle;\n",
              "    }\n",
              "\n",
              "    .dataframe tbody tr th {\n",
              "        vertical-align: top;\n",
              "    }\n",
              "\n",
              "    .dataframe thead th {\n",
              "        text-align: right;\n",
              "    }\n",
              "</style>\n",
              "<table border=\"1\" class=\"dataframe\">\n",
              "  <thead>\n",
              "    <tr style=\"text-align: right;\">\n",
              "      <th></th>\n",
              "      <th>Name</th>\n",
              "      <th>Country</th>\n",
              "      <th>HourlyIncome</th>\n",
              "      <th>Rating</th>\n",
              "      <th>Bio</th>\n",
              "      <th>up-skill-badge</th>\n",
              "      <th>up-skill-badge 2</th>\n",
              "      <th>up-skill-badge 3</th>\n",
              "      <th>up-skill-badge 4</th>\n",
              "      <th>up-skill-badge 5</th>\n",
              "      <th>up-skill-badge 6</th>\n",
              "      <th>up-skill-badge 7</th>\n",
              "      <th>up-skill-badge 8</th>\n",
              "      <th>up-skill-badge 9</th>\n",
              "      <th>up-skill-badge 10</th>\n",
              "      <th>up-skill-badge 11</th>\n",
              "      <th>up-skill-badge 12</th>\n",
              "      <th>up-skill-badge 13</th>\n",
              "      <th>Total-Skills</th>\n",
              "      <th>Required-Skills</th>\n",
              "    </tr>\n",
              "  </thead>\n",
              "  <tbody>\n",
              "    <tr>\n",
              "      <th>0</th>\n",
              "      <td>Natasa P.</td>\n",
              "      <td>Serbia</td>\n",
              "      <td>40.0</td>\n",
              "      <td>1.0</td>\n",
              "      <td>My career goals are to utilize the knowledge a...</td>\n",
              "      <td>Statistics</td>\n",
              "      <td>Financial Analysis</td>\n",
              "      <td>Forecasting</td>\n",
              "      <td>Microsoft Excel</td>\n",
              "      <td>Financial Modeling</td>\n",
              "      <td>Financial Forecast</td>\n",
              "      <td>Financial Planning</td>\n",
              "      <td>Financial Projection</td>\n",
              "      <td>NaN</td>\n",
              "      <td>NaN</td>\n",
              "      <td>NaN</td>\n",
              "      <td>NaN</td>\n",
              "      <td>NaN</td>\n",
              "      <td>8</td>\n",
              "      <td>5</td>\n",
              "    </tr>\n",
              "    <tr>\n",
              "      <th>1</th>\n",
              "      <td>Areesha F.</td>\n",
              "      <td>Pakistan</td>\n",
              "      <td>10.0</td>\n",
              "      <td>0.0</td>\n",
              "      <td>Hey I m a best content writer and blog article...</td>\n",
              "      <td>Balance Sheet</td>\n",
              "      <td>Budget Management</td>\n",
              "      <td>Cash Flow Analysis</td>\n",
              "      <td>Auditing</td>\n",
              "      <td>Payroll Accounting</td>\n",
              "      <td>General Ledger</td>\n",
              "      <td>Accounts Payable</td>\n",
              "      <td>NaN</td>\n",
              "      <td>NaN</td>\n",
              "      <td>NaN</td>\n",
              "      <td>NaN</td>\n",
              "      <td>NaN</td>\n",
              "      <td>NaN</td>\n",
              "      <td>7</td>\n",
              "      <td>6</td>\n",
              "    </tr>\n",
              "    <tr>\n",
              "      <th>2</th>\n",
              "      <td>Benjie D.</td>\n",
              "      <td>Philippines</td>\n",
              "      <td>20.0</td>\n",
              "      <td>0.0</td>\n",
              "      <td>I am a freelancer and I write for a variety of...</td>\n",
              "      <td>NaN</td>\n",
              "      <td>NaN</td>\n",
              "      <td>NaN</td>\n",
              "      <td>NaN</td>\n",
              "      <td>NaN</td>\n",
              "      <td>NaN</td>\n",
              "      <td>NaN</td>\n",
              "      <td>NaN</td>\n",
              "      <td>NaN</td>\n",
              "      <td>NaN</td>\n",
              "      <td>NaN</td>\n",
              "      <td>NaN</td>\n",
              "      <td>NaN</td>\n",
              "      <td>0</td>\n",
              "      <td>13</td>\n",
              "    </tr>\n",
              "    <tr>\n",
              "      <th>3</th>\n",
              "      <td>Tgw O.</td>\n",
              "      <td>Pakistan</td>\n",
              "      <td>10.0</td>\n",
              "      <td>0.0</td>\n",
              "      <td>All Rounder Freelancer \\nJust Contact Us For F...</td>\n",
              "      <td>NaN</td>\n",
              "      <td>NaN</td>\n",
              "      <td>NaN</td>\n",
              "      <td>NaN</td>\n",
              "      <td>NaN</td>\n",
              "      <td>NaN</td>\n",
              "      <td>NaN</td>\n",
              "      <td>NaN</td>\n",
              "      <td>NaN</td>\n",
              "      <td>NaN</td>\n",
              "      <td>NaN</td>\n",
              "      <td>NaN</td>\n",
              "      <td>NaN</td>\n",
              "      <td>0</td>\n",
              "      <td>13</td>\n",
              "    </tr>\n",
              "    <tr>\n",
              "      <th>4</th>\n",
              "      <td>Muhammad F.</td>\n",
              "      <td>Pakistan</td>\n",
              "      <td>20.0</td>\n",
              "      <td>0.0</td>\n",
              "      <td>Hello .\\ni am a freelancer. I want to show my ...</td>\n",
              "      <td>NaN</td>\n",
              "      <td>NaN</td>\n",
              "      <td>NaN</td>\n",
              "      <td>NaN</td>\n",
              "      <td>NaN</td>\n",
              "      <td>NaN</td>\n",
              "      <td>NaN</td>\n",
              "      <td>NaN</td>\n",
              "      <td>NaN</td>\n",
              "      <td>NaN</td>\n",
              "      <td>NaN</td>\n",
              "      <td>NaN</td>\n",
              "      <td>NaN</td>\n",
              "      <td>0</td>\n",
              "      <td>13</td>\n",
              "    </tr>\n",
              "    <tr>\n",
              "      <th>...</th>\n",
              "      <td>...</td>\n",
              "      <td>...</td>\n",
              "      <td>...</td>\n",
              "      <td>...</td>\n",
              "      <td>...</td>\n",
              "      <td>...</td>\n",
              "      <td>...</td>\n",
              "      <td>...</td>\n",
              "      <td>...</td>\n",
              "      <td>...</td>\n",
              "      <td>...</td>\n",
              "      <td>...</td>\n",
              "      <td>...</td>\n",
              "      <td>...</td>\n",
              "      <td>...</td>\n",
              "      <td>...</td>\n",
              "      <td>...</td>\n",
              "      <td>...</td>\n",
              "      <td>...</td>\n",
              "      <td>...</td>\n",
              "    </tr>\n",
              "    <tr>\n",
              "      <th>20264</th>\n",
              "      <td>Ashfeen B.</td>\n",
              "      <td>Pakistan</td>\n",
              "      <td>20.0</td>\n",
              "      <td>NaN</td>\n",
              "      <td>I have great experience of content writing and...</td>\n",
              "      <td>Blog Content</td>\n",
              "      <td>Article</td>\n",
              "      <td>Business Writing</td>\n",
              "      <td>COVID-19</td>\n",
              "      <td>Entertainment</td>\n",
              "      <td>Education</td>\n",
              "      <td>Health &amp; Fitness</td>\n",
              "      <td>NaN</td>\n",
              "      <td>NaN</td>\n",
              "      <td>NaN</td>\n",
              "      <td>NaN</td>\n",
              "      <td>NaN</td>\n",
              "      <td>NaN</td>\n",
              "      <td>7</td>\n",
              "      <td>6</td>\n",
              "    </tr>\n",
              "    <tr>\n",
              "      <th>20265</th>\n",
              "      <td>OLUGBAMI O. S.</td>\n",
              "      <td>Nigeria</td>\n",
              "      <td>30.0</td>\n",
              "      <td>NaN</td>\n",
              "      <td>Freelance Direct Response Copywriter with 2+ y...</td>\n",
              "      <td>African American English Accent</td>\n",
              "      <td>English</td>\n",
              "      <td>NaN</td>\n",
              "      <td>NaN</td>\n",
              "      <td>NaN</td>\n",
              "      <td>NaN</td>\n",
              "      <td>NaN</td>\n",
              "      <td>NaN</td>\n",
              "      <td>NaN</td>\n",
              "      <td>NaN</td>\n",
              "      <td>NaN</td>\n",
              "      <td>NaN</td>\n",
              "      <td>NaN</td>\n",
              "      <td>2</td>\n",
              "      <td>11</td>\n",
              "    </tr>\n",
              "    <tr>\n",
              "      <th>20266</th>\n",
              "      <td>Abdulazeez B.</td>\n",
              "      <td>Nigeria</td>\n",
              "      <td>40.0</td>\n",
              "      <td>NaN</td>\n",
              "      <td>Hello!\\nI am a freelance writer who help brand...</td>\n",
              "      <td>NaN</td>\n",
              "      <td>NaN</td>\n",
              "      <td>NaN</td>\n",
              "      <td>NaN</td>\n",
              "      <td>NaN</td>\n",
              "      <td>NaN</td>\n",
              "      <td>NaN</td>\n",
              "      <td>NaN</td>\n",
              "      <td>NaN</td>\n",
              "      <td>NaN</td>\n",
              "      <td>NaN</td>\n",
              "      <td>NaN</td>\n",
              "      <td>NaN</td>\n",
              "      <td>0</td>\n",
              "      <td>13</td>\n",
              "    </tr>\n",
              "    <tr>\n",
              "      <th>20267</th>\n",
              "      <td>Mudassara I.</td>\n",
              "      <td>Pakistan</td>\n",
              "      <td>10.0</td>\n",
              "      <td>NaN</td>\n",
              "      <td>I can give extraordinary content to my clients...</td>\n",
              "      <td>Content Writing</td>\n",
              "      <td>Researcher</td>\n",
              "      <td>SEO</td>\n",
              "      <td>Copywriting</td>\n",
              "      <td>Editing &amp; Proofreading</td>\n",
              "      <td>Blog Content</td>\n",
              "      <td>Article</td>\n",
              "      <td>About Us Page</td>\n",
              "      <td>Product Page</td>\n",
              "      <td>Case Studies</td>\n",
              "      <td>NaN</td>\n",
              "      <td>NaN</td>\n",
              "      <td>NaN</td>\n",
              "      <td>10</td>\n",
              "      <td>3</td>\n",
              "    </tr>\n",
              "    <tr>\n",
              "      <th>20268</th>\n",
              "      <td>Waindi C.</td>\n",
              "      <td>Kenya</td>\n",
              "      <td>20.0</td>\n",
              "      <td>NaN</td>\n",
              "      <td>I am a self motivated graduate who always aspi...</td>\n",
              "      <td>Business Plan</td>\n",
              "      <td>Article</td>\n",
              "      <td>Executive Summary</td>\n",
              "      <td>Letter</td>\n",
              "      <td>Consumer Goods</td>\n",
              "      <td>Education</td>\n",
              "      <td>NaN</td>\n",
              "      <td>NaN</td>\n",
              "      <td>NaN</td>\n",
              "      <td>NaN</td>\n",
              "      <td>NaN</td>\n",
              "      <td>NaN</td>\n",
              "      <td>NaN</td>\n",
              "      <td>6</td>\n",
              "      <td>7</td>\n",
              "    </tr>\n",
              "  </tbody>\n",
              "</table>\n",
              "<p>20198 rows × 20 columns</p>\n",
              "</div>\n",
              "      <button class=\"colab-df-convert\" onclick=\"convertToInteractive('df-acffa4cb-0953-4da4-af46-0528b56c70f1')\"\n",
              "              title=\"Convert this dataframe to an interactive table.\"\n",
              "              style=\"display:none;\">\n",
              "        \n",
              "  <svg xmlns=\"http://www.w3.org/2000/svg\" height=\"24px\"viewBox=\"0 0 24 24\"\n",
              "       width=\"24px\">\n",
              "    <path d=\"M0 0h24v24H0V0z\" fill=\"none\"/>\n",
              "    <path d=\"M18.56 5.44l.94 2.06.94-2.06 2.06-.94-2.06-.94-.94-2.06-.94 2.06-2.06.94zm-11 1L8.5 8.5l.94-2.06 2.06-.94-2.06-.94L8.5 2.5l-.94 2.06-2.06.94zm10 10l.94 2.06.94-2.06 2.06-.94-2.06-.94-.94-2.06-.94 2.06-2.06.94z\"/><path d=\"M17.41 7.96l-1.37-1.37c-.4-.4-.92-.59-1.43-.59-.52 0-1.04.2-1.43.59L10.3 9.45l-7.72 7.72c-.78.78-.78 2.05 0 2.83L4 21.41c.39.39.9.59 1.41.59.51 0 1.02-.2 1.41-.59l7.78-7.78 2.81-2.81c.8-.78.8-2.07 0-2.86zM5.41 20L4 18.59l7.72-7.72 1.47 1.35L5.41 20z\"/>\n",
              "  </svg>\n",
              "      </button>\n",
              "      \n",
              "  <style>\n",
              "    .colab-df-container {\n",
              "      display:flex;\n",
              "      flex-wrap:wrap;\n",
              "      gap: 12px;\n",
              "    }\n",
              "\n",
              "    .colab-df-convert {\n",
              "      background-color: #E8F0FE;\n",
              "      border: none;\n",
              "      border-radius: 50%;\n",
              "      cursor: pointer;\n",
              "      display: none;\n",
              "      fill: #1967D2;\n",
              "      height: 32px;\n",
              "      padding: 0 0 0 0;\n",
              "      width: 32px;\n",
              "    }\n",
              "\n",
              "    .colab-df-convert:hover {\n",
              "      background-color: #E2EBFA;\n",
              "      box-shadow: 0px 1px 2px rgba(60, 64, 67, 0.3), 0px 1px 3px 1px rgba(60, 64, 67, 0.15);\n",
              "      fill: #174EA6;\n",
              "    }\n",
              "\n",
              "    [theme=dark] .colab-df-convert {\n",
              "      background-color: #3B4455;\n",
              "      fill: #D2E3FC;\n",
              "    }\n",
              "\n",
              "    [theme=dark] .colab-df-convert:hover {\n",
              "      background-color: #434B5C;\n",
              "      box-shadow: 0px 1px 3px 1px rgba(0, 0, 0, 0.15);\n",
              "      filter: drop-shadow(0px 1px 2px rgba(0, 0, 0, 0.3));\n",
              "      fill: #FFFFFF;\n",
              "    }\n",
              "  </style>\n",
              "\n",
              "      <script>\n",
              "        const buttonEl =\n",
              "          document.querySelector('#df-acffa4cb-0953-4da4-af46-0528b56c70f1 button.colab-df-convert');\n",
              "        buttonEl.style.display =\n",
              "          google.colab.kernel.accessAllowed ? 'block' : 'none';\n",
              "\n",
              "        async function convertToInteractive(key) {\n",
              "          const element = document.querySelector('#df-acffa4cb-0953-4da4-af46-0528b56c70f1');\n",
              "          const dataTable =\n",
              "            await google.colab.kernel.invokeFunction('convertToInteractive',\n",
              "                                                     [key], {});\n",
              "          if (!dataTable) return;\n",
              "\n",
              "          const docLinkHtml = 'Like what you see? Visit the ' +\n",
              "            '<a target=\"_blank\" href=https://colab.research.google.com/notebooks/data_table.ipynb>data table notebook</a>'\n",
              "            + ' to learn more about interactive tables.';\n",
              "          element.innerHTML = '';\n",
              "          dataTable['output_type'] = 'display_data';\n",
              "          await google.colab.output.renderOutput(dataTable, element);\n",
              "          const docLink = document.createElement('div');\n",
              "          docLink.innerHTML = docLinkHtml;\n",
              "          element.appendChild(docLink);\n",
              "        }\n",
              "      </script>\n",
              "    </div>\n",
              "  </div>\n",
              "  "
            ]
          },
          "metadata": {},
          "execution_count": 17
        }
      ],
      "source": [
        "x"
      ]
    },
    {
      "cell_type": "code",
      "execution_count": null,
      "metadata": {
        "id": "T34u-T23mKuP"
      },
      "outputs": [],
      "source": [
        "y = df['ClassLabel']"
      ]
    },
    {
      "cell_type": "code",
      "execution_count": null,
      "metadata": {
        "colab": {
          "base_uri": "https://localhost:8080/"
        },
        "id": "z_P7WouxmKuQ",
        "outputId": "492b5da1-7d1b-4b31-945f-602ac8282b14"
      },
      "outputs": [
        {
          "output_type": "execute_result",
          "data": {
            "text/plain": [
              "0             Excellent\n",
              "1        Bellow Average\n",
              "2        Bellow Average\n",
              "3        Bellow Average\n",
              "4        Bellow Average\n",
              "              ...      \n",
              "20264    Bellow Average\n",
              "20265    Bellow Average\n",
              "20266    Bellow Average\n",
              "20267    Bellow Average\n",
              "20268    Bellow Average\n",
              "Name: JobSuccess, Length: 19774, dtype: object"
            ]
          },
          "metadata": {},
          "execution_count": 369
        }
      ],
      "source": [
        "y"
      ]
    },
    {
      "cell_type": "code",
      "execution_count": null,
      "metadata": {
        "id": "vfDFGmqImKuR"
      },
      "outputs": [],
      "source": [
        "from sklearn.preprocessing import LabelEncoder"
      ]
    },
    {
      "cell_type": "code",
      "execution_count": null,
      "metadata": {
        "id": "GSUsyiRImKuS"
      },
      "outputs": [],
      "source": [
        "x=x.apply(LabelEncoder().fit_transform)"
      ]
    },
    {
      "cell_type": "code",
      "execution_count": null,
      "metadata": {
        "colab": {
          "base_uri": "https://localhost:8080/",
          "height": 540
        },
        "id": "8qVXzhCxmKuT",
        "outputId": "f7936008-4cf6-477e-9e05-fc2b45ea2483"
      },
      "outputs": [
        {
          "output_type": "execute_result",
          "data": {
            "text/plain": [
              "        Name  Country  HourlyIncome  Rating    Bio  up-skill-badge  \\\n",
              "0      10624      124           262      77  15536            1446   \n",
              "1       1624      106           105       0   5628             181   \n",
              "2       2261      111           190       0   9041            1698   \n",
              "3      14783      106           105       0   1106            1698   \n",
              "4      10162      106           190       0   3898            1698   \n",
              "...      ...      ...           ...     ...    ...             ...   \n",
              "20264   1822      106           190      78  12303             213   \n",
              "20265  11110      103           228      78   3208              70   \n",
              "20266    152      103           262      78   4461            1698   \n",
              "20267  10057      106           105      78  11159             418   \n",
              "20268  15542       76           190      78   9839             260   \n",
              "\n",
              "       up-skill-badge 2  up-skill-badge 3  up-skill-badge 4  up-skill-badge 5  \\\n",
              "0                   668               698              1042               645   \n",
              "1                   252               334               162              1175   \n",
              "2                  1783              1820              1794              1776   \n",
              "3                  1783              1820              1794              1776   \n",
              "4                  1783              1820              1794              1776   \n",
              "...                 ...               ...               ...               ...   \n",
              "20264               148               283               306               593   \n",
              "20265               615              1820              1794              1776   \n",
              "20266              1783              1820              1794              1776   \n",
              "20267              1347              1404               447               558   \n",
              "20268               148               629               925               406   \n",
              "\n",
              "       up-skill-badge 6  up-skill-badge 7  up-skill-badge 8  up-skill-badge 9  \\\n",
              "0                   609               605               587              1555   \n",
              "1                   672                38              1631              1555   \n",
              "2                  1708              1681              1631              1555   \n",
              "3                  1708              1681              1631              1555   \n",
              "4                  1708              1681              1631              1555   \n",
              "...                 ...               ...               ...               ...   \n",
              "20264               534               738              1631              1555   \n",
              "20265              1708              1681              1631              1555   \n",
              "20266              1708              1681              1631              1555   \n",
              "20267               214               132                28              1092   \n",
              "20268               534              1681              1631              1555   \n",
              "\n",
              "       up-skill-badge 10  up-skill-badge 11  up-skill-badge 12  \\\n",
              "0                   1405               1265               1053   \n",
              "1                   1405               1265               1053   \n",
              "2                   1405               1265               1053   \n",
              "3                   1405               1265               1053   \n",
              "4                   1405               1265               1053   \n",
              "...                  ...                ...                ...   \n",
              "20264               1405               1265               1053   \n",
              "20265               1405               1265               1053   \n",
              "20266               1405               1265               1053   \n",
              "20267                262               1265               1053   \n",
              "20268               1405               1265               1053   \n",
              "\n",
              "       up-skill-badge 13  Total-Skills  Required-Skills  \n",
              "0                    931             8                5  \n",
              "1                    931             7                6  \n",
              "2                    931             0               13  \n",
              "3                    931             0               13  \n",
              "4                    931             0               13  \n",
              "...                  ...           ...              ...  \n",
              "20264                931             7                6  \n",
              "20265                931             2               11  \n",
              "20266                931             0               13  \n",
              "20267                931            10                3  \n",
              "20268                931             6                7  \n",
              "\n",
              "[20198 rows x 20 columns]"
            ],
            "text/html": [
              "\n",
              "  <div id=\"df-755322d3-0988-47d1-ad18-20ca43a54f5f\">\n",
              "    <div class=\"colab-df-container\">\n",
              "      <div>\n",
              "<style scoped>\n",
              "    .dataframe tbody tr th:only-of-type {\n",
              "        vertical-align: middle;\n",
              "    }\n",
              "\n",
              "    .dataframe tbody tr th {\n",
              "        vertical-align: top;\n",
              "    }\n",
              "\n",
              "    .dataframe thead th {\n",
              "        text-align: right;\n",
              "    }\n",
              "</style>\n",
              "<table border=\"1\" class=\"dataframe\">\n",
              "  <thead>\n",
              "    <tr style=\"text-align: right;\">\n",
              "      <th></th>\n",
              "      <th>Name</th>\n",
              "      <th>Country</th>\n",
              "      <th>HourlyIncome</th>\n",
              "      <th>Rating</th>\n",
              "      <th>Bio</th>\n",
              "      <th>up-skill-badge</th>\n",
              "      <th>up-skill-badge 2</th>\n",
              "      <th>up-skill-badge 3</th>\n",
              "      <th>up-skill-badge 4</th>\n",
              "      <th>up-skill-badge 5</th>\n",
              "      <th>up-skill-badge 6</th>\n",
              "      <th>up-skill-badge 7</th>\n",
              "      <th>up-skill-badge 8</th>\n",
              "      <th>up-skill-badge 9</th>\n",
              "      <th>up-skill-badge 10</th>\n",
              "      <th>up-skill-badge 11</th>\n",
              "      <th>up-skill-badge 12</th>\n",
              "      <th>up-skill-badge 13</th>\n",
              "      <th>Total-Skills</th>\n",
              "      <th>Required-Skills</th>\n",
              "    </tr>\n",
              "  </thead>\n",
              "  <tbody>\n",
              "    <tr>\n",
              "      <th>0</th>\n",
              "      <td>10624</td>\n",
              "      <td>124</td>\n",
              "      <td>262</td>\n",
              "      <td>77</td>\n",
              "      <td>15536</td>\n",
              "      <td>1446</td>\n",
              "      <td>668</td>\n",
              "      <td>698</td>\n",
              "      <td>1042</td>\n",
              "      <td>645</td>\n",
              "      <td>609</td>\n",
              "      <td>605</td>\n",
              "      <td>587</td>\n",
              "      <td>1555</td>\n",
              "      <td>1405</td>\n",
              "      <td>1265</td>\n",
              "      <td>1053</td>\n",
              "      <td>931</td>\n",
              "      <td>8</td>\n",
              "      <td>5</td>\n",
              "    </tr>\n",
              "    <tr>\n",
              "      <th>1</th>\n",
              "      <td>1624</td>\n",
              "      <td>106</td>\n",
              "      <td>105</td>\n",
              "      <td>0</td>\n",
              "      <td>5628</td>\n",
              "      <td>181</td>\n",
              "      <td>252</td>\n",
              "      <td>334</td>\n",
              "      <td>162</td>\n",
              "      <td>1175</td>\n",
              "      <td>672</td>\n",
              "      <td>38</td>\n",
              "      <td>1631</td>\n",
              "      <td>1555</td>\n",
              "      <td>1405</td>\n",
              "      <td>1265</td>\n",
              "      <td>1053</td>\n",
              "      <td>931</td>\n",
              "      <td>7</td>\n",
              "      <td>6</td>\n",
              "    </tr>\n",
              "    <tr>\n",
              "      <th>2</th>\n",
              "      <td>2261</td>\n",
              "      <td>111</td>\n",
              "      <td>190</td>\n",
              "      <td>0</td>\n",
              "      <td>9041</td>\n",
              "      <td>1698</td>\n",
              "      <td>1783</td>\n",
              "      <td>1820</td>\n",
              "      <td>1794</td>\n",
              "      <td>1776</td>\n",
              "      <td>1708</td>\n",
              "      <td>1681</td>\n",
              "      <td>1631</td>\n",
              "      <td>1555</td>\n",
              "      <td>1405</td>\n",
              "      <td>1265</td>\n",
              "      <td>1053</td>\n",
              "      <td>931</td>\n",
              "      <td>0</td>\n",
              "      <td>13</td>\n",
              "    </tr>\n",
              "    <tr>\n",
              "      <th>3</th>\n",
              "      <td>14783</td>\n",
              "      <td>106</td>\n",
              "      <td>105</td>\n",
              "      <td>0</td>\n",
              "      <td>1106</td>\n",
              "      <td>1698</td>\n",
              "      <td>1783</td>\n",
              "      <td>1820</td>\n",
              "      <td>1794</td>\n",
              "      <td>1776</td>\n",
              "      <td>1708</td>\n",
              "      <td>1681</td>\n",
              "      <td>1631</td>\n",
              "      <td>1555</td>\n",
              "      <td>1405</td>\n",
              "      <td>1265</td>\n",
              "      <td>1053</td>\n",
              "      <td>931</td>\n",
              "      <td>0</td>\n",
              "      <td>13</td>\n",
              "    </tr>\n",
              "    <tr>\n",
              "      <th>4</th>\n",
              "      <td>10162</td>\n",
              "      <td>106</td>\n",
              "      <td>190</td>\n",
              "      <td>0</td>\n",
              "      <td>3898</td>\n",
              "      <td>1698</td>\n",
              "      <td>1783</td>\n",
              "      <td>1820</td>\n",
              "      <td>1794</td>\n",
              "      <td>1776</td>\n",
              "      <td>1708</td>\n",
              "      <td>1681</td>\n",
              "      <td>1631</td>\n",
              "      <td>1555</td>\n",
              "      <td>1405</td>\n",
              "      <td>1265</td>\n",
              "      <td>1053</td>\n",
              "      <td>931</td>\n",
              "      <td>0</td>\n",
              "      <td>13</td>\n",
              "    </tr>\n",
              "    <tr>\n",
              "      <th>...</th>\n",
              "      <td>...</td>\n",
              "      <td>...</td>\n",
              "      <td>...</td>\n",
              "      <td>...</td>\n",
              "      <td>...</td>\n",
              "      <td>...</td>\n",
              "      <td>...</td>\n",
              "      <td>...</td>\n",
              "      <td>...</td>\n",
              "      <td>...</td>\n",
              "      <td>...</td>\n",
              "      <td>...</td>\n",
              "      <td>...</td>\n",
              "      <td>...</td>\n",
              "      <td>...</td>\n",
              "      <td>...</td>\n",
              "      <td>...</td>\n",
              "      <td>...</td>\n",
              "      <td>...</td>\n",
              "      <td>...</td>\n",
              "    </tr>\n",
              "    <tr>\n",
              "      <th>20264</th>\n",
              "      <td>1822</td>\n",
              "      <td>106</td>\n",
              "      <td>190</td>\n",
              "      <td>78</td>\n",
              "      <td>12303</td>\n",
              "      <td>213</td>\n",
              "      <td>148</td>\n",
              "      <td>283</td>\n",
              "      <td>306</td>\n",
              "      <td>593</td>\n",
              "      <td>534</td>\n",
              "      <td>738</td>\n",
              "      <td>1631</td>\n",
              "      <td>1555</td>\n",
              "      <td>1405</td>\n",
              "      <td>1265</td>\n",
              "      <td>1053</td>\n",
              "      <td>931</td>\n",
              "      <td>7</td>\n",
              "      <td>6</td>\n",
              "    </tr>\n",
              "    <tr>\n",
              "      <th>20265</th>\n",
              "      <td>11110</td>\n",
              "      <td>103</td>\n",
              "      <td>228</td>\n",
              "      <td>78</td>\n",
              "      <td>3208</td>\n",
              "      <td>70</td>\n",
              "      <td>615</td>\n",
              "      <td>1820</td>\n",
              "      <td>1794</td>\n",
              "      <td>1776</td>\n",
              "      <td>1708</td>\n",
              "      <td>1681</td>\n",
              "      <td>1631</td>\n",
              "      <td>1555</td>\n",
              "      <td>1405</td>\n",
              "      <td>1265</td>\n",
              "      <td>1053</td>\n",
              "      <td>931</td>\n",
              "      <td>2</td>\n",
              "      <td>11</td>\n",
              "    </tr>\n",
              "    <tr>\n",
              "      <th>20266</th>\n",
              "      <td>152</td>\n",
              "      <td>103</td>\n",
              "      <td>262</td>\n",
              "      <td>78</td>\n",
              "      <td>4461</td>\n",
              "      <td>1698</td>\n",
              "      <td>1783</td>\n",
              "      <td>1820</td>\n",
              "      <td>1794</td>\n",
              "      <td>1776</td>\n",
              "      <td>1708</td>\n",
              "      <td>1681</td>\n",
              "      <td>1631</td>\n",
              "      <td>1555</td>\n",
              "      <td>1405</td>\n",
              "      <td>1265</td>\n",
              "      <td>1053</td>\n",
              "      <td>931</td>\n",
              "      <td>0</td>\n",
              "      <td>13</td>\n",
              "    </tr>\n",
              "    <tr>\n",
              "      <th>20267</th>\n",
              "      <td>10057</td>\n",
              "      <td>106</td>\n",
              "      <td>105</td>\n",
              "      <td>78</td>\n",
              "      <td>11159</td>\n",
              "      <td>418</td>\n",
              "      <td>1347</td>\n",
              "      <td>1404</td>\n",
              "      <td>447</td>\n",
              "      <td>558</td>\n",
              "      <td>214</td>\n",
              "      <td>132</td>\n",
              "      <td>28</td>\n",
              "      <td>1092</td>\n",
              "      <td>262</td>\n",
              "      <td>1265</td>\n",
              "      <td>1053</td>\n",
              "      <td>931</td>\n",
              "      <td>10</td>\n",
              "      <td>3</td>\n",
              "    </tr>\n",
              "    <tr>\n",
              "      <th>20268</th>\n",
              "      <td>15542</td>\n",
              "      <td>76</td>\n",
              "      <td>190</td>\n",
              "      <td>78</td>\n",
              "      <td>9839</td>\n",
              "      <td>260</td>\n",
              "      <td>148</td>\n",
              "      <td>629</td>\n",
              "      <td>925</td>\n",
              "      <td>406</td>\n",
              "      <td>534</td>\n",
              "      <td>1681</td>\n",
              "      <td>1631</td>\n",
              "      <td>1555</td>\n",
              "      <td>1405</td>\n",
              "      <td>1265</td>\n",
              "      <td>1053</td>\n",
              "      <td>931</td>\n",
              "      <td>6</td>\n",
              "      <td>7</td>\n",
              "    </tr>\n",
              "  </tbody>\n",
              "</table>\n",
              "<p>20198 rows × 20 columns</p>\n",
              "</div>\n",
              "      <button class=\"colab-df-convert\" onclick=\"convertToInteractive('df-755322d3-0988-47d1-ad18-20ca43a54f5f')\"\n",
              "              title=\"Convert this dataframe to an interactive table.\"\n",
              "              style=\"display:none;\">\n",
              "        \n",
              "  <svg xmlns=\"http://www.w3.org/2000/svg\" height=\"24px\"viewBox=\"0 0 24 24\"\n",
              "       width=\"24px\">\n",
              "    <path d=\"M0 0h24v24H0V0z\" fill=\"none\"/>\n",
              "    <path d=\"M18.56 5.44l.94 2.06.94-2.06 2.06-.94-2.06-.94-.94-2.06-.94 2.06-2.06.94zm-11 1L8.5 8.5l.94-2.06 2.06-.94-2.06-.94L8.5 2.5l-.94 2.06-2.06.94zm10 10l.94 2.06.94-2.06 2.06-.94-2.06-.94-.94-2.06-.94 2.06-2.06.94z\"/><path d=\"M17.41 7.96l-1.37-1.37c-.4-.4-.92-.59-1.43-.59-.52 0-1.04.2-1.43.59L10.3 9.45l-7.72 7.72c-.78.78-.78 2.05 0 2.83L4 21.41c.39.39.9.59 1.41.59.51 0 1.02-.2 1.41-.59l7.78-7.78 2.81-2.81c.8-.78.8-2.07 0-2.86zM5.41 20L4 18.59l7.72-7.72 1.47 1.35L5.41 20z\"/>\n",
              "  </svg>\n",
              "      </button>\n",
              "      \n",
              "  <style>\n",
              "    .colab-df-container {\n",
              "      display:flex;\n",
              "      flex-wrap:wrap;\n",
              "      gap: 12px;\n",
              "    }\n",
              "\n",
              "    .colab-df-convert {\n",
              "      background-color: #E8F0FE;\n",
              "      border: none;\n",
              "      border-radius: 50%;\n",
              "      cursor: pointer;\n",
              "      display: none;\n",
              "      fill: #1967D2;\n",
              "      height: 32px;\n",
              "      padding: 0 0 0 0;\n",
              "      width: 32px;\n",
              "    }\n",
              "\n",
              "    .colab-df-convert:hover {\n",
              "      background-color: #E2EBFA;\n",
              "      box-shadow: 0px 1px 2px rgba(60, 64, 67, 0.3), 0px 1px 3px 1px rgba(60, 64, 67, 0.15);\n",
              "      fill: #174EA6;\n",
              "    }\n",
              "\n",
              "    [theme=dark] .colab-df-convert {\n",
              "      background-color: #3B4455;\n",
              "      fill: #D2E3FC;\n",
              "    }\n",
              "\n",
              "    [theme=dark] .colab-df-convert:hover {\n",
              "      background-color: #434B5C;\n",
              "      box-shadow: 0px 1px 3px 1px rgba(0, 0, 0, 0.15);\n",
              "      filter: drop-shadow(0px 1px 2px rgba(0, 0, 0, 0.3));\n",
              "      fill: #FFFFFF;\n",
              "    }\n",
              "  </style>\n",
              "\n",
              "      <script>\n",
              "        const buttonEl =\n",
              "          document.querySelector('#df-755322d3-0988-47d1-ad18-20ca43a54f5f button.colab-df-convert');\n",
              "        buttonEl.style.display =\n",
              "          google.colab.kernel.accessAllowed ? 'block' : 'none';\n",
              "\n",
              "        async function convertToInteractive(key) {\n",
              "          const element = document.querySelector('#df-755322d3-0988-47d1-ad18-20ca43a54f5f');\n",
              "          const dataTable =\n",
              "            await google.colab.kernel.invokeFunction('convertToInteractive',\n",
              "                                                     [key], {});\n",
              "          if (!dataTable) return;\n",
              "\n",
              "          const docLinkHtml = 'Like what you see? Visit the ' +\n",
              "            '<a target=\"_blank\" href=https://colab.research.google.com/notebooks/data_table.ipynb>data table notebook</a>'\n",
              "            + ' to learn more about interactive tables.';\n",
              "          element.innerHTML = '';\n",
              "          dataTable['output_type'] = 'display_data';\n",
              "          await google.colab.output.renderOutput(dataTable, element);\n",
              "          const docLink = document.createElement('div');\n",
              "          docLink.innerHTML = docLinkHtml;\n",
              "          element.appendChild(docLink);\n",
              "        }\n",
              "      </script>\n",
              "    </div>\n",
              "  </div>\n",
              "  "
            ]
          },
          "metadata": {},
          "execution_count": 22
        }
      ],
      "source": [
        "x"
      ]
    },
    {
      "cell_type": "markdown",
      "source": [
        "Support vector machine model"
      ],
      "metadata": {
        "id": "lFF7u_roxqHq"
      }
    },
    {
      "cell_type": "code",
      "execution_count": null,
      "metadata": {
        "id": "37-qOJ-mmKuT"
      },
      "outputs": [],
      "source": [
        "#Support vector machine model\n",
        "from sklearn.model_selection import train_test_split\n",
        "from sklearn.svm import SVC"
      ]
    },
    {
      "cell_type": "code",
      "execution_count": null,
      "metadata": {
        "id": "Iuaal_NlmKuU"
      },
      "outputs": [],
      "source": [
        "xtrain,xtest,ytrain,ytest = train_test_split(x,y,test_size=25,random_state=1)"
      ]
    },
    {
      "cell_type": "code",
      "execution_count": null,
      "metadata": {
        "colab": {
          "base_uri": "https://localhost:8080/",
          "height": 540
        },
        "id": "Uvm_EzD8mKuV",
        "outputId": "23652458-6661-43da-b7fa-79be91b74a26"
      },
      "outputs": [
        {
          "output_type": "execute_result",
          "data": {
            "text/plain": [
              "        Name  Country  HourlyIncome  Rating    Bio  up-skill-badge  \\\n",
              "15747   1119      113           150      77  16908            1199   \n",
              "10731    632        9           150      78   3928             298   \n",
              "4284    2525      150           243       0   1748            1554   \n",
              "4670    2289       45           150      77   9235            1000   \n",
              "19965  15067      106            35      78  11739             418   \n",
              "...      ...      ...           ...     ...    ...             ...   \n",
              "10995  14152       67           150      77    902             298   \n",
              "17340  14499      106           228      78   6094               0   \n",
              "5195   15827      150           199       0  15930            1347   \n",
              "12219     46       67           135      78   7963             693   \n",
              "235    15357       84            95      68    236             145   \n",
              "\n",
              "       up-skill-badge 2  up-skill-badge 3  up-skill-badge 4  up-skill-badge 5  \\\n",
              "15747               593              1042              1028               426   \n",
              "10731               323              1490              1478               754   \n",
              "4284                829              1820              1794              1776   \n",
              "4670                518              1820              1794              1776   \n",
              "19965              1377               579              1354               430   \n",
              "...                 ...               ...               ...               ...   \n",
              "10995               918               147              1001               904   \n",
              "17340                24                95               105                55   \n",
              "5195                197              1807               813              1336   \n",
              "12219              1752              1353              1726              1748   \n",
              "235                 934              1791               152              1776   \n",
              "\n",
              "       up-skill-badge 6  up-skill-badge 7  up-skill-badge 8  up-skill-badge 9  \\\n",
              "15747               833               770               834              1362   \n",
              "10731               583              1651               849              1417   \n",
              "4284               1708              1681              1631              1555   \n",
              "4670               1708              1681              1631              1555   \n",
              "19965              1569               230              1631              1555   \n",
              "...                 ...               ...               ...               ...   \n",
              "10995               546               540               901               906   \n",
              "17340              1667               213              1615                96   \n",
              "5195               1356              1678              1176              1201   \n",
              "12219              1135               573               753               173   \n",
              "235                1708              1681              1631              1555   \n",
              "\n",
              "       up-skill-badge 10  up-skill-badge 11  up-skill-badge 12  \\\n",
              "15747               1156                656                302   \n",
              "10731                662                416               1053   \n",
              "4284                1405               1265               1053   \n",
              "4670                1405               1265               1053   \n",
              "19965               1405               1265               1053   \n",
              "...                  ...                ...                ...   \n",
              "10995               1364                286                751   \n",
              "17340               1405               1265               1053   \n",
              "5195                1405               1265               1053   \n",
              "12219                 70                153               1043   \n",
              "235                 1405               1265               1053   \n",
              "\n",
              "       up-skill-badge 13  Total-Skills  Required-Skills  \n",
              "15747                166            13                0  \n",
              "10731                931            11                2  \n",
              "4284                 931             2               11  \n",
              "4670                 931             2               11  \n",
              "19965                931             7                6  \n",
              "...                  ...           ...              ...  \n",
              "10995                141            13                0  \n",
              "17340                931             9                4  \n",
              "5195                 931             9                4  \n",
              "12219                272            13                0  \n",
              "235                  931             4                9  \n",
              "\n",
              "[20173 rows x 20 columns]"
            ],
            "text/html": [
              "\n",
              "  <div id=\"df-7a7074da-0f8b-46f7-9c68-fb825cb4dd60\">\n",
              "    <div class=\"colab-df-container\">\n",
              "      <div>\n",
              "<style scoped>\n",
              "    .dataframe tbody tr th:only-of-type {\n",
              "        vertical-align: middle;\n",
              "    }\n",
              "\n",
              "    .dataframe tbody tr th {\n",
              "        vertical-align: top;\n",
              "    }\n",
              "\n",
              "    .dataframe thead th {\n",
              "        text-align: right;\n",
              "    }\n",
              "</style>\n",
              "<table border=\"1\" class=\"dataframe\">\n",
              "  <thead>\n",
              "    <tr style=\"text-align: right;\">\n",
              "      <th></th>\n",
              "      <th>Name</th>\n",
              "      <th>Country</th>\n",
              "      <th>HourlyIncome</th>\n",
              "      <th>Rating</th>\n",
              "      <th>Bio</th>\n",
              "      <th>up-skill-badge</th>\n",
              "      <th>up-skill-badge 2</th>\n",
              "      <th>up-skill-badge 3</th>\n",
              "      <th>up-skill-badge 4</th>\n",
              "      <th>up-skill-badge 5</th>\n",
              "      <th>up-skill-badge 6</th>\n",
              "      <th>up-skill-badge 7</th>\n",
              "      <th>up-skill-badge 8</th>\n",
              "      <th>up-skill-badge 9</th>\n",
              "      <th>up-skill-badge 10</th>\n",
              "      <th>up-skill-badge 11</th>\n",
              "      <th>up-skill-badge 12</th>\n",
              "      <th>up-skill-badge 13</th>\n",
              "      <th>Total-Skills</th>\n",
              "      <th>Required-Skills</th>\n",
              "    </tr>\n",
              "  </thead>\n",
              "  <tbody>\n",
              "    <tr>\n",
              "      <th>15747</th>\n",
              "      <td>1119</td>\n",
              "      <td>113</td>\n",
              "      <td>150</td>\n",
              "      <td>77</td>\n",
              "      <td>16908</td>\n",
              "      <td>1199</td>\n",
              "      <td>593</td>\n",
              "      <td>1042</td>\n",
              "      <td>1028</td>\n",
              "      <td>426</td>\n",
              "      <td>833</td>\n",
              "      <td>770</td>\n",
              "      <td>834</td>\n",
              "      <td>1362</td>\n",
              "      <td>1156</td>\n",
              "      <td>656</td>\n",
              "      <td>302</td>\n",
              "      <td>166</td>\n",
              "      <td>13</td>\n",
              "      <td>0</td>\n",
              "    </tr>\n",
              "    <tr>\n",
              "      <th>10731</th>\n",
              "      <td>632</td>\n",
              "      <td>9</td>\n",
              "      <td>150</td>\n",
              "      <td>78</td>\n",
              "      <td>3928</td>\n",
              "      <td>298</td>\n",
              "      <td>323</td>\n",
              "      <td>1490</td>\n",
              "      <td>1478</td>\n",
              "      <td>754</td>\n",
              "      <td>583</td>\n",
              "      <td>1651</td>\n",
              "      <td>849</td>\n",
              "      <td>1417</td>\n",
              "      <td>662</td>\n",
              "      <td>416</td>\n",
              "      <td>1053</td>\n",
              "      <td>931</td>\n",
              "      <td>11</td>\n",
              "      <td>2</td>\n",
              "    </tr>\n",
              "    <tr>\n",
              "      <th>4284</th>\n",
              "      <td>2525</td>\n",
              "      <td>150</td>\n",
              "      <td>243</td>\n",
              "      <td>0</td>\n",
              "      <td>1748</td>\n",
              "      <td>1554</td>\n",
              "      <td>829</td>\n",
              "      <td>1820</td>\n",
              "      <td>1794</td>\n",
              "      <td>1776</td>\n",
              "      <td>1708</td>\n",
              "      <td>1681</td>\n",
              "      <td>1631</td>\n",
              "      <td>1555</td>\n",
              "      <td>1405</td>\n",
              "      <td>1265</td>\n",
              "      <td>1053</td>\n",
              "      <td>931</td>\n",
              "      <td>2</td>\n",
              "      <td>11</td>\n",
              "    </tr>\n",
              "    <tr>\n",
              "      <th>4670</th>\n",
              "      <td>2289</td>\n",
              "      <td>45</td>\n",
              "      <td>150</td>\n",
              "      <td>77</td>\n",
              "      <td>9235</td>\n",
              "      <td>1000</td>\n",
              "      <td>518</td>\n",
              "      <td>1820</td>\n",
              "      <td>1794</td>\n",
              "      <td>1776</td>\n",
              "      <td>1708</td>\n",
              "      <td>1681</td>\n",
              "      <td>1631</td>\n",
              "      <td>1555</td>\n",
              "      <td>1405</td>\n",
              "      <td>1265</td>\n",
              "      <td>1053</td>\n",
              "      <td>931</td>\n",
              "      <td>2</td>\n",
              "      <td>11</td>\n",
              "    </tr>\n",
              "    <tr>\n",
              "      <th>19965</th>\n",
              "      <td>15067</td>\n",
              "      <td>106</td>\n",
              "      <td>35</td>\n",
              "      <td>78</td>\n",
              "      <td>11739</td>\n",
              "      <td>418</td>\n",
              "      <td>1377</td>\n",
              "      <td>579</td>\n",
              "      <td>1354</td>\n",
              "      <td>430</td>\n",
              "      <td>1569</td>\n",
              "      <td>230</td>\n",
              "      <td>1631</td>\n",
              "      <td>1555</td>\n",
              "      <td>1405</td>\n",
              "      <td>1265</td>\n",
              "      <td>1053</td>\n",
              "      <td>931</td>\n",
              "      <td>7</td>\n",
              "      <td>6</td>\n",
              "    </tr>\n",
              "    <tr>\n",
              "      <th>...</th>\n",
              "      <td>...</td>\n",
              "      <td>...</td>\n",
              "      <td>...</td>\n",
              "      <td>...</td>\n",
              "      <td>...</td>\n",
              "      <td>...</td>\n",
              "      <td>...</td>\n",
              "      <td>...</td>\n",
              "      <td>...</td>\n",
              "      <td>...</td>\n",
              "      <td>...</td>\n",
              "      <td>...</td>\n",
              "      <td>...</td>\n",
              "      <td>...</td>\n",
              "      <td>...</td>\n",
              "      <td>...</td>\n",
              "      <td>...</td>\n",
              "      <td>...</td>\n",
              "      <td>...</td>\n",
              "      <td>...</td>\n",
              "    </tr>\n",
              "    <tr>\n",
              "      <th>10995</th>\n",
              "      <td>14152</td>\n",
              "      <td>67</td>\n",
              "      <td>150</td>\n",
              "      <td>77</td>\n",
              "      <td>902</td>\n",
              "      <td>298</td>\n",
              "      <td>918</td>\n",
              "      <td>147</td>\n",
              "      <td>1001</td>\n",
              "      <td>904</td>\n",
              "      <td>546</td>\n",
              "      <td>540</td>\n",
              "      <td>901</td>\n",
              "      <td>906</td>\n",
              "      <td>1364</td>\n",
              "      <td>286</td>\n",
              "      <td>751</td>\n",
              "      <td>141</td>\n",
              "      <td>13</td>\n",
              "      <td>0</td>\n",
              "    </tr>\n",
              "    <tr>\n",
              "      <th>17340</th>\n",
              "      <td>14499</td>\n",
              "      <td>106</td>\n",
              "      <td>228</td>\n",
              "      <td>78</td>\n",
              "      <td>6094</td>\n",
              "      <td>0</td>\n",
              "      <td>24</td>\n",
              "      <td>95</td>\n",
              "      <td>105</td>\n",
              "      <td>55</td>\n",
              "      <td>1667</td>\n",
              "      <td>213</td>\n",
              "      <td>1615</td>\n",
              "      <td>96</td>\n",
              "      <td>1405</td>\n",
              "      <td>1265</td>\n",
              "      <td>1053</td>\n",
              "      <td>931</td>\n",
              "      <td>9</td>\n",
              "      <td>4</td>\n",
              "    </tr>\n",
              "    <tr>\n",
              "      <th>5195</th>\n",
              "      <td>15827</td>\n",
              "      <td>150</td>\n",
              "      <td>199</td>\n",
              "      <td>0</td>\n",
              "      <td>15930</td>\n",
              "      <td>1347</td>\n",
              "      <td>197</td>\n",
              "      <td>1807</td>\n",
              "      <td>813</td>\n",
              "      <td>1336</td>\n",
              "      <td>1356</td>\n",
              "      <td>1678</td>\n",
              "      <td>1176</td>\n",
              "      <td>1201</td>\n",
              "      <td>1405</td>\n",
              "      <td>1265</td>\n",
              "      <td>1053</td>\n",
              "      <td>931</td>\n",
              "      <td>9</td>\n",
              "      <td>4</td>\n",
              "    </tr>\n",
              "    <tr>\n",
              "      <th>12219</th>\n",
              "      <td>46</td>\n",
              "      <td>67</td>\n",
              "      <td>135</td>\n",
              "      <td>78</td>\n",
              "      <td>7963</td>\n",
              "      <td>693</td>\n",
              "      <td>1752</td>\n",
              "      <td>1353</td>\n",
              "      <td>1726</td>\n",
              "      <td>1748</td>\n",
              "      <td>1135</td>\n",
              "      <td>573</td>\n",
              "      <td>753</td>\n",
              "      <td>173</td>\n",
              "      <td>70</td>\n",
              "      <td>153</td>\n",
              "      <td>1043</td>\n",
              "      <td>272</td>\n",
              "      <td>13</td>\n",
              "      <td>0</td>\n",
              "    </tr>\n",
              "    <tr>\n",
              "      <th>235</th>\n",
              "      <td>15357</td>\n",
              "      <td>84</td>\n",
              "      <td>95</td>\n",
              "      <td>68</td>\n",
              "      <td>236</td>\n",
              "      <td>145</td>\n",
              "      <td>934</td>\n",
              "      <td>1791</td>\n",
              "      <td>152</td>\n",
              "      <td>1776</td>\n",
              "      <td>1708</td>\n",
              "      <td>1681</td>\n",
              "      <td>1631</td>\n",
              "      <td>1555</td>\n",
              "      <td>1405</td>\n",
              "      <td>1265</td>\n",
              "      <td>1053</td>\n",
              "      <td>931</td>\n",
              "      <td>4</td>\n",
              "      <td>9</td>\n",
              "    </tr>\n",
              "  </tbody>\n",
              "</table>\n",
              "<p>20173 rows × 20 columns</p>\n",
              "</div>\n",
              "      <button class=\"colab-df-convert\" onclick=\"convertToInteractive('df-7a7074da-0f8b-46f7-9c68-fb825cb4dd60')\"\n",
              "              title=\"Convert this dataframe to an interactive table.\"\n",
              "              style=\"display:none;\">\n",
              "        \n",
              "  <svg xmlns=\"http://www.w3.org/2000/svg\" height=\"24px\"viewBox=\"0 0 24 24\"\n",
              "       width=\"24px\">\n",
              "    <path d=\"M0 0h24v24H0V0z\" fill=\"none\"/>\n",
              "    <path d=\"M18.56 5.44l.94 2.06.94-2.06 2.06-.94-2.06-.94-.94-2.06-.94 2.06-2.06.94zm-11 1L8.5 8.5l.94-2.06 2.06-.94-2.06-.94L8.5 2.5l-.94 2.06-2.06.94zm10 10l.94 2.06.94-2.06 2.06-.94-2.06-.94-.94-2.06-.94 2.06-2.06.94z\"/><path d=\"M17.41 7.96l-1.37-1.37c-.4-.4-.92-.59-1.43-.59-.52 0-1.04.2-1.43.59L10.3 9.45l-7.72 7.72c-.78.78-.78 2.05 0 2.83L4 21.41c.39.39.9.59 1.41.59.51 0 1.02-.2 1.41-.59l7.78-7.78 2.81-2.81c.8-.78.8-2.07 0-2.86zM5.41 20L4 18.59l7.72-7.72 1.47 1.35L5.41 20z\"/>\n",
              "  </svg>\n",
              "      </button>\n",
              "      \n",
              "  <style>\n",
              "    .colab-df-container {\n",
              "      display:flex;\n",
              "      flex-wrap:wrap;\n",
              "      gap: 12px;\n",
              "    }\n",
              "\n",
              "    .colab-df-convert {\n",
              "      background-color: #E8F0FE;\n",
              "      border: none;\n",
              "      border-radius: 50%;\n",
              "      cursor: pointer;\n",
              "      display: none;\n",
              "      fill: #1967D2;\n",
              "      height: 32px;\n",
              "      padding: 0 0 0 0;\n",
              "      width: 32px;\n",
              "    }\n",
              "\n",
              "    .colab-df-convert:hover {\n",
              "      background-color: #E2EBFA;\n",
              "      box-shadow: 0px 1px 2px rgba(60, 64, 67, 0.3), 0px 1px 3px 1px rgba(60, 64, 67, 0.15);\n",
              "      fill: #174EA6;\n",
              "    }\n",
              "\n",
              "    [theme=dark] .colab-df-convert {\n",
              "      background-color: #3B4455;\n",
              "      fill: #D2E3FC;\n",
              "    }\n",
              "\n",
              "    [theme=dark] .colab-df-convert:hover {\n",
              "      background-color: #434B5C;\n",
              "      box-shadow: 0px 1px 3px 1px rgba(0, 0, 0, 0.15);\n",
              "      filter: drop-shadow(0px 1px 2px rgba(0, 0, 0, 0.3));\n",
              "      fill: #FFFFFF;\n",
              "    }\n",
              "  </style>\n",
              "\n",
              "      <script>\n",
              "        const buttonEl =\n",
              "          document.querySelector('#df-7a7074da-0f8b-46f7-9c68-fb825cb4dd60 button.colab-df-convert');\n",
              "        buttonEl.style.display =\n",
              "          google.colab.kernel.accessAllowed ? 'block' : 'none';\n",
              "\n",
              "        async function convertToInteractive(key) {\n",
              "          const element = document.querySelector('#df-7a7074da-0f8b-46f7-9c68-fb825cb4dd60');\n",
              "          const dataTable =\n",
              "            await google.colab.kernel.invokeFunction('convertToInteractive',\n",
              "                                                     [key], {});\n",
              "          if (!dataTable) return;\n",
              "\n",
              "          const docLinkHtml = 'Like what you see? Visit the ' +\n",
              "            '<a target=\"_blank\" href=https://colab.research.google.com/notebooks/data_table.ipynb>data table notebook</a>'\n",
              "            + ' to learn more about interactive tables.';\n",
              "          element.innerHTML = '';\n",
              "          dataTable['output_type'] = 'display_data';\n",
              "          await google.colab.output.renderOutput(dataTable, element);\n",
              "          const docLink = document.createElement('div');\n",
              "          docLink.innerHTML = docLinkHtml;\n",
              "          element.appendChild(docLink);\n",
              "        }\n",
              "      </script>\n",
              "    </div>\n",
              "  </div>\n",
              "  "
            ]
          },
          "metadata": {},
          "execution_count": 25
        }
      ],
      "source": [
        "xtrain"
      ]
    },
    {
      "cell_type": "code",
      "execution_count": null,
      "metadata": {
        "id": "CsYLBKjlmKuW"
      },
      "outputs": [],
      "source": [
        "sv = SVC()"
      ]
    },
    {
      "cell_type": "code",
      "execution_count": null,
      "metadata": {
        "colab": {
          "base_uri": "https://localhost:8080/"
        },
        "id": "QcfQm5s0mKuX",
        "outputId": "1e008868-1f00-4cbc-ded7-4a52499612a8"
      },
      "outputs": [
        {
          "output_type": "execute_result",
          "data": {
            "text/plain": [
              "SVC()"
            ]
          },
          "metadata": {},
          "execution_count": 27
        }
      ],
      "source": [
        "sv.fit(xtrain,ytrain)"
      ]
    },
    {
      "cell_type": "code",
      "execution_count": null,
      "metadata": {
        "colab": {
          "base_uri": "https://localhost:8080/"
        },
        "id": "olJcwsy1mKuY",
        "outputId": "9b059154-275a-4d7c-f5d0-d94181ff168f"
      },
      "outputs": [
        {
          "output_type": "execute_result",
          "data": {
            "text/plain": [
              "0.64"
            ]
          },
          "metadata": {},
          "execution_count": 28
        }
      ],
      "source": [
        "sv.score(xtest,ytest)"
      ]
    },
    {
      "cell_type": "markdown",
      "source": [
        "Decision tree classifier"
      ],
      "metadata": {
        "id": "TN-ioC6ox1Xd"
      }
    },
    {
      "cell_type": "code",
      "execution_count": null,
      "metadata": {
        "id": "EctDbOqHmKuZ"
      },
      "outputs": [],
      "source": [
        "#Decision tree classifier\n",
        "from sklearn.tree import DecisionTreeClassifier"
      ]
    },
    {
      "cell_type": "code",
      "execution_count": null,
      "metadata": {
        "id": "hVGA4JrsmKua"
      },
      "outputs": [],
      "source": [
        "dtc= DecisionTreeClassifier()"
      ]
    },
    {
      "cell_type": "code",
      "execution_count": null,
      "metadata": {
        "colab": {
          "base_uri": "https://localhost:8080/"
        },
        "id": "tOUzeIh7mKua",
        "outputId": "b5254568-612c-4d3b-fb96-3c6fd5f933d9"
      },
      "outputs": [
        {
          "output_type": "execute_result",
          "data": {
            "text/plain": [
              "DecisionTreeClassifier()"
            ]
          },
          "metadata": {},
          "execution_count": 31
        }
      ],
      "source": [
        "dtc.fit(xtrain,ytrain)"
      ]
    },
    {
      "cell_type": "code",
      "execution_count": null,
      "metadata": {
        "colab": {
          "base_uri": "https://localhost:8080/"
        },
        "id": "ZL9YCgIvmKub",
        "outputId": "07b3f43b-14dd-4119-de99-2bdb92b2a778"
      },
      "outputs": [
        {
          "output_type": "execute_result",
          "data": {
            "text/plain": [
              "1.0"
            ]
          },
          "metadata": {},
          "execution_count": 32
        }
      ],
      "source": [
        "dtc.score(xtest,ytest)"
      ]
    },
    {
      "cell_type": "markdown",
      "source": [
        "KNeighbors Classifier"
      ],
      "metadata": {
        "id": "yA1fpyCWx7Qt"
      }
    },
    {
      "cell_type": "code",
      "execution_count": null,
      "metadata": {
        "id": "aDdV06w_mKuc"
      },
      "outputs": [],
      "source": [
        "#KNeighborsClassifier\n",
        "from sklearn.neighbors import KNeighborsClassifier\n",
        "knc=KNeighborsClassifier(n_neighbors=9)"
      ]
    },
    {
      "cell_type": "code",
      "execution_count": null,
      "metadata": {
        "colab": {
          "base_uri": "https://localhost:8080/"
        },
        "id": "eCRd7kLfmKud",
        "outputId": "fdc40007-b04d-4472-e328-74550117365a"
      },
      "outputs": [
        {
          "output_type": "execute_result",
          "data": {
            "text/plain": [
              "KNeighborsClassifier(n_neighbors=9)"
            ]
          },
          "metadata": {},
          "execution_count": 35
        }
      ],
      "source": [
        "knc.fit(xtrain,ytrain)"
      ]
    },
    {
      "cell_type": "code",
      "execution_count": null,
      "metadata": {
        "colab": {
          "base_uri": "https://localhost:8080/"
        },
        "id": "wbihomirmKud",
        "outputId": "e947246d-0ad3-417f-de7d-95ccf14114b6"
      },
      "outputs": [
        {
          "output_type": "execute_result",
          "data": {
            "text/plain": [
              "KNeighborsClassifier(n_neighbors=9)"
            ]
          },
          "metadata": {},
          "execution_count": 36
        }
      ],
      "source": [
        "KNeighborsClassifier(n_neighbors=9)"
      ]
    },
    {
      "cell_type": "code",
      "execution_count": null,
      "metadata": {
        "colab": {
          "base_uri": "https://localhost:8080/"
        },
        "id": "jQSJL7bFmKud",
        "outputId": "bc009ddf-a8ee-494f-ea14-27eab968d9f8"
      },
      "outputs": [
        {
          "output_type": "execute_result",
          "data": {
            "text/plain": [
              "0.56"
            ]
          },
          "metadata": {},
          "execution_count": 37
        }
      ],
      "source": [
        "knc.score(xtest,ytest)"
      ]
    },
    {
      "cell_type": "markdown",
      "source": [
        "Naive bayes"
      ],
      "metadata": {
        "id": "LHHglO4gyAoD"
      }
    },
    {
      "cell_type": "code",
      "execution_count": null,
      "metadata": {
        "id": "gkN7P15rmKue"
      },
      "outputs": [],
      "source": [
        "#naive_bayes\n",
        "from sklearn.naive_bayes import MultinomialNB"
      ]
    },
    {
      "cell_type": "code",
      "execution_count": null,
      "metadata": {
        "id": "7_SAe0UimKuf"
      },
      "outputs": [],
      "source": [
        "mnb = MultinomialNB()"
      ]
    },
    {
      "cell_type": "code",
      "execution_count": null,
      "metadata": {
        "colab": {
          "base_uri": "https://localhost:8080/"
        },
        "id": "gqs7OtmumKuf",
        "outputId": "06e38f70-b01e-464a-ae93-46cc31b3c1d6"
      },
      "outputs": [
        {
          "output_type": "execute_result",
          "data": {
            "text/plain": [
              "MultinomialNB()"
            ]
          },
          "metadata": {},
          "execution_count": 40
        }
      ],
      "source": [
        "mnb.fit(xtrain,ytrain)"
      ]
    },
    {
      "cell_type": "code",
      "execution_count": null,
      "metadata": {
        "colab": {
          "base_uri": "https://localhost:8080/"
        },
        "id": "ZwGehOVSmKug",
        "outputId": "a11eb4fb-aa89-4464-85eb-0aacad95fa5f"
      },
      "outputs": [
        {
          "output_type": "execute_result",
          "data": {
            "text/plain": [
              "0.04"
            ]
          },
          "metadata": {},
          "execution_count": 41
        }
      ],
      "source": [
        "mnb.score(xtest,ytest)"
      ]
    },
    {
      "cell_type": "markdown",
      "source": [
        "Random Forest Classifier"
      ],
      "metadata": {
        "id": "CWC6iqBmyGG-"
      }
    },
    {
      "cell_type": "code",
      "execution_count": null,
      "metadata": {
        "id": "5Wjv41f-mKuh"
      },
      "outputs": [],
      "source": [
        "#Random Forest Classifier\n",
        "from sklearn.ensemble import RandomForestClassifier"
      ]
    },
    {
      "cell_type": "code",
      "source": [
        "clf=RandomForestClassifier"
      ],
      "metadata": {
        "id": "xF5Np-22qa42"
      },
      "execution_count": null,
      "outputs": []
    },
    {
      "cell_type": "code",
      "execution_count": null,
      "metadata": {
        "id": "3i3gW_B_mKuh"
      },
      "outputs": [],
      "source": [
        "#Randomly choose n_estimator\n",
        "clf=RandomForestClassifier(n_estimators=80,oob_score=True,n_jobs=-1,random_state=200)"
      ]
    },
    {
      "cell_type": "code",
      "source": [
        "clf.fit(xtrain,ytrain)"
      ],
      "metadata": {
        "colab": {
          "base_uri": "https://localhost:8080/"
        },
        "id": "RATjxrBMrRzL",
        "outputId": "bedef725-77c3-4507-fbf7-8565b6e110b3"
      },
      "execution_count": null,
      "outputs": [
        {
          "output_type": "execute_result",
          "data": {
            "text/plain": [
              "RandomForestClassifier(n_estimators=80, n_jobs=-1, oob_score=True,\n",
              "                       random_state=200)"
            ]
          },
          "metadata": {},
          "execution_count": 45
        }
      ]
    },
    {
      "cell_type": "code",
      "source": [
        "clf.score(xtest,ytest)"
      ],
      "metadata": {
        "colab": {
          "base_uri": "https://localhost:8080/"
        },
        "id": "zu8zamz3reSa",
        "outputId": "a2e43afb-92a3-494c-edba-0318fddb33ba"
      },
      "execution_count": null,
      "outputs": [
        {
          "output_type": "execute_result",
          "data": {
            "text/plain": [
              "1.0"
            ]
          },
          "metadata": {},
          "execution_count": 46
        }
      ]
    },
    {
      "cell_type": "code",
      "source": [
        "#accuracy on new data set\n",
        "clf.oob_score_"
      ],
      "metadata": {
        "colab": {
          "base_uri": "https://localhost:8080/"
        },
        "id": "IcAtWhWpr0yJ",
        "outputId": "4bfa5a33-1810-4962-a5a1-ca449b6c2668"
      },
      "execution_count": null,
      "outputs": [
        {
          "output_type": "execute_result",
          "data": {
            "text/plain": [
              "0.9928617458979825"
            ]
          },
          "metadata": {},
          "execution_count": 47
        }
      ]
    },
    {
      "cell_type": "markdown",
      "source": [
        "logistic regression"
      ],
      "metadata": {
        "id": "DsUPR5NjyJ4z"
      }
    },
    {
      "cell_type": "code",
      "source": [
        "from sklearn.linear_model import LogisticRegression\n",
        "from sklearn.metrics import accuracy_score\n",
        "\n",
        "\n",
        "#create logistic regression object\n",
        "logR= LogisticRegression(random_state=200)\n",
        "#Train the model using training data \n",
        "logR=logR.fit(xtest,ytest)"
      ],
      "metadata": {
        "colab": {
          "base_uri": "https://localhost:8080/"
        },
        "id": "8TXGMN6lsBml",
        "outputId": "38082691-1593-48ca-df80-e85427d85244"
      },
      "execution_count": null,
      "outputs": [
        {
          "output_type": "stream",
          "name": "stderr",
          "text": [
            "/usr/local/lib/python3.8/dist-packages/sklearn/linear_model/_logistic.py:814: ConvergenceWarning: lbfgs failed to converge (status=1):\n",
            "STOP: TOTAL NO. of ITERATIONS REACHED LIMIT.\n",
            "\n",
            "Increase the number of iterations (max_iter) or scale the data as shown in:\n",
            "    https://scikit-learn.org/stable/modules/preprocessing.html\n",
            "Please also refer to the documentation for alternative solver options:\n",
            "    https://scikit-learn.org/stable/modules/linear_model.html#logistic-regression\n",
            "  n_iter_i = _check_optimize_result(\n"
          ]
        }
      ]
    },
    {
      "cell_type": "code",
      "source": [
        "#Test the model using testing data\n",
        "predictions = logR.predict(xtest)"
      ],
      "metadata": {
        "id": "X99eWYeKsL6U"
      },
      "execution_count": null,
      "outputs": []
    },
    {
      "cell_type": "code",
      "source": [
        "#Confusion matrix\n",
        "from sklearn.metrics import confusion_matrix\n",
        "from sklearn.metrics import classification_report\n",
        "\n",
        "cm_Log = confusion_matrix(ytest, predictions)\n",
        "print(cm_Log)\n",
        "\n",
        "classific_Log = classification_report(ytest, predictions)\n",
        "print(classific_Log)"
      ],
      "metadata": {
        "colab": {
          "base_uri": "https://localhost:8080/"
        },
        "id": "pQaUPyESsRKx",
        "outputId": "0f07f73a-dc55-4471-fbc6-b67f863ee755"
      },
      "execution_count": null,
      "outputs": [
        {
          "output_type": "stream",
          "name": "stdout",
          "text": [
            "[[14  0]\n",
            " [ 0 11]]\n",
            "                precision    recall  f1-score   support\n",
            "\n",
            "Bellow Average       1.00      1.00      1.00        14\n",
            "     Excellent       1.00      1.00      1.00        11\n",
            "\n",
            "      accuracy                           1.00        25\n",
            "     macro avg       1.00      1.00      1.00        25\n",
            "  weighted avg       1.00      1.00      1.00        25\n",
            "\n"
          ]
        }
      ]
    },
    {
      "cell_type": "code",
      "source": [
        "print(\"LR Train Accuracy score is \",logR.score(xtrain,ytrain))"
      ],
      "metadata": {
        "colab": {
          "base_uri": "https://localhost:8080/"
        },
        "id": "vSj2eMaXsX7T",
        "outputId": "6e93ac52-3d9b-4b9e-ba01-f1dc8732ffea"
      },
      "execution_count": null,
      "outputs": [
        {
          "output_type": "stream",
          "name": "stdout",
          "text": [
            "LR Train Accuracy score is  0.5073613245427055\n"
          ]
        }
      ]
    },
    {
      "cell_type": "code",
      "source": [
        "print(\"LR Test Accuracy score is \",accuracy_score(ytest,predictions))"
      ],
      "metadata": {
        "colab": {
          "base_uri": "https://localhost:8080/"
        },
        "id": "forvd6QMseES",
        "outputId": "95703173-c28a-4721-c55e-59a6b6b02bbd"
      },
      "execution_count": null,
      "outputs": [
        {
          "output_type": "stream",
          "name": "stdout",
          "text": [
            "LR Test Accuracy score is  1.0\n"
          ]
        }
      ]
    },
    {
      "cell_type": "code",
      "source": [
        "logR.score(xtest,ytest)"
      ],
      "metadata": {
        "colab": {
          "base_uri": "https://localhost:8080/"
        },
        "id": "RImd0eG60YqI",
        "outputId": "daf2c4df-f245-4085-a35f-20a21c350183"
      },
      "execution_count": null,
      "outputs": [
        {
          "output_type": "execute_result",
          "data": {
            "text/plain": [
              "1.0"
            ]
          },
          "metadata": {},
          "execution_count": 53
        }
      ]
    },
    {
      "cell_type": "markdown",
      "source": [
        "XGBoot Classifier"
      ],
      "metadata": {
        "id": "lyR_C3bQxDoZ"
      }
    },
    {
      "cell_type": "code",
      "source": [
        "from xgboost import XGBClassifier\n",
        "from sklearn.model_selection import train_test_split\n",
        "from sklearn.metrics import accuracy_score\n",
        "from sklearn.datasets import load_wine"
      ],
      "metadata": {
        "id": "YL007lH8wVUN"
      },
      "execution_count": null,
      "outputs": []
    },
    {
      "cell_type": "code",
      "source": [
        "xtrain, xtest, ytrain, ytest = train_test_split(x, y, test_size=0.3, random_state=1)"
      ],
      "metadata": {
        "id": "4qD5761LwZzh"
      },
      "execution_count": null,
      "outputs": []
    },
    {
      "cell_type": "code",
      "source": [
        "# fit model no training data\n",
        "xg = XGBClassifier()"
      ],
      "metadata": {
        "id": "BP_-9LMkwb0c"
      },
      "execution_count": null,
      "outputs": []
    },
    {
      "cell_type": "code",
      "source": [
        "X, y = load_wine(return_X_y=True, as_frame=True)"
      ],
      "metadata": {
        "id": "4KafIFotwd_r"
      },
      "execution_count": null,
      "outputs": []
    },
    {
      "cell_type": "code",
      "source": [
        "X_train, X_test, y_train, y_test = train_test_split(X, y, test_size=0.3, random_state=1)"
      ],
      "metadata": {
        "id": "me9sCKvWwgf2"
      },
      "execution_count": null,
      "outputs": []
    },
    {
      "cell_type": "code",
      "source": [
        "model = XGBClassifier(use_label_encoder=False, eval_metric='mlogloss')"
      ],
      "metadata": {
        "id": "trvcDMyFwkdy"
      },
      "execution_count": null,
      "outputs": []
    },
    {
      "cell_type": "code",
      "source": [
        "model.fit(X_train, y_train)"
      ],
      "metadata": {
        "colab": {
          "base_uri": "https://localhost:8080/"
        },
        "id": "yGyrhXb7wlH6",
        "outputId": "bb0567b4-3a4a-42db-8038-8b3d17375699"
      },
      "execution_count": null,
      "outputs": [
        {
          "output_type": "execute_result",
          "data": {
            "text/plain": [
              "XGBClassifier(eval_metric='mlogloss', objective='multi:softprob',\n",
              "              use_label_encoder=False)"
            ]
          },
          "metadata": {},
          "execution_count": 60
        }
      ]
    },
    {
      "cell_type": "code",
      "source": [
        "y_pred = model.predict(X_test)"
      ],
      "metadata": {
        "id": "uRI6-JeEwnJp"
      },
      "execution_count": null,
      "outputs": []
    },
    {
      "cell_type": "code",
      "source": [
        "y_pred"
      ],
      "metadata": {
        "colab": {
          "base_uri": "https://localhost:8080/"
        },
        "id": "WDdu0Ua_wpNy",
        "outputId": "16dcef0d-d036-4e82-b8d0-068cacc9494f"
      },
      "execution_count": null,
      "outputs": [
        {
          "output_type": "execute_result",
          "data": {
            "text/plain": [
              "array([2, 1, 0, 1, 0, 2, 1, 0, 2, 1, 0, 0, 1, 0, 1, 1, 2, 0, 1, 0, 0, 1,\n",
              "       2, 0, 0, 2, 0, 0, 0, 2, 1, 2, 2, 0, 1, 1, 1, 0, 1, 0, 0, 1, 2, 0,\n",
              "       0, 0, 1, 0, 0, 0, 1, 2, 2, 0])"
            ]
          },
          "metadata": {},
          "execution_count": 62
        }
      ]
    },
    {
      "cell_type": "code",
      "source": [
        "accuracy = accuracy_score(y_test, y_pred)\n",
        "accuracy"
      ],
      "metadata": {
        "colab": {
          "base_uri": "https://localhost:8080/"
        },
        "id": "wasHlPbAwrBJ",
        "outputId": "fef989cb-97ff-473d-c398-8b5fa1d1f98d"
      },
      "execution_count": null,
      "outputs": [
        {
          "output_type": "execute_result",
          "data": {
            "text/plain": [
              "0.9629629629629629"
            ]
          },
          "metadata": {},
          "execution_count": 63
        }
      ]
    }
  ],
  "metadata": {
    "kernelspec": {
      "display_name": "Python 3",
      "language": "python",
      "name": "python3"
    },
    "language_info": {
      "codemirror_mode": {
        "name": "ipython",
        "version": 3
      },
      "file_extension": ".py",
      "mimetype": "text/x-python",
      "name": "python",
      "nbconvert_exporter": "python",
      "pygments_lexer": "ipython3",
      "version": "3.8.3"
    },
    "colab": {
      "provenance": []
    }
  },
  "nbformat": 4,
  "nbformat_minor": 0
}